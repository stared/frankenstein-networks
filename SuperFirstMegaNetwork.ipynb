{
 "cells": [
  {
   "cell_type": "code",
   "execution_count": 1,
   "metadata": {
    "collapsed": true
   },
   "outputs": [],
   "source": [
    "%matplotlib inline\n",
    "import matplotlib.pyplot as plt\n",
    "import numpy as np\n",
    "from sklearn.model_selection import train_test_split\n",
    "from sklearn.metrics import confusion_matrix\n",
    "\n",
    "import torch\n",
    "from torch import nn, optim\n",
    "from torch.utils import data\n",
    "import torchvision\n",
    "from torchvision import datasets, transforms\n",
    "\n",
    "from livelossplot import PlotLosses"
   ]
  },
  {
   "cell_type": "code",
   "execution_count": 2,
   "metadata": {
    "collapsed": false
   },
   "outputs": [
    {
     "data": {
      "text/plain": [
       "<torch._C.Generator at 0xbc2b354410>"
      ]
     },
     "execution_count": 2,
     "metadata": {},
     "output_type": "execute_result"
    }
   ],
   "source": [
    "torch.manual_seed(42)"
   ]
  },
  {
   "cell_type": "code",
   "execution_count": 6,
   "metadata": {
    "collapsed": true
   },
   "outputs": [],
   "source": [
    "classes = [\"apple\", \"spider\", \"octopus\", \"snowflake\"]"
   ]
  },
  {
   "cell_type": "code",
   "execution_count": 7,
   "metadata": {
    "collapsed": true
   },
   "outputs": [],
   "source": [
    "limit=500"
   ]
  },
  {
   "cell_type": "code",
   "execution_count": 12,
   "metadata": {
    "collapsed": false
   },
   "outputs": [
    {
     "data": {
      "text/plain": [
       "array([  0,   0,   0,   0,   0,   0,   0,   0,   0,   0,   0,   0,   0,\n",
       "         0,   0,   0,   0,   0,   0,   0,   0,   0,   0,   0,   0,   0,\n",
       "         0,   0,   0,   0,   0,   0,   0,   0,   0,   0,   0,   0,   0,\n",
       "         0,  36, 109,  16,   0,   0,   0,   0,   0,   0,   0,   0,   0,\n",
       "         0,   0,   0,   0,   0,   0,   0,   0,   0,   0,   0,   0,   0,\n",
       "         0,   0,   0, 183, 255, 136,   0,   0,   0,   0,   0,   0,   0,\n",
       "         0,   0,   0,   0,   0,   0,   0,   0,   0,   0,   0,   0,   0,\n",
       "         0,   0,   0,   0,   2, 243, 255, 209,   0,   0,   0,   0,   0,\n",
       "         0,   0,   0,   0,   0,   0,   0,   0,   0,   0,   0,   0,   0,\n",
       "         0,   0,   0,   0,   0,   0,   7, 255, 255, 197,   0,   0,   0,\n",
       "         0,   0,   0,   0,   0,   0,   0,   0,   0,   0,   0,   0,   0,\n",
       "         0,   0,   0,   0,   0,   0,   0,   0,   7, 255, 255, 122,   0,\n",
       "         0,   0,   0,   0,   0,   0,   0,   0,   0,   0,   0,   0,   0,\n",
       "         0,   0,   0,   0,   0,   0,   0,  69, 217, 229, 133, 255, 255,\n",
       "        52,   0,   0,   0,   0,   0,   0,   0,   0,   0,   0,   0,   0,\n",
       "         0,   0,   0,   0,   0,   0,   0,  12, 150, 254, 208, 168, 255,\n",
       "       254, 255, 196, 187, 187, 187, 179, 170, 130,  25,   0,   0,   0,\n",
       "         0,   0,   0,   0,   0,   0,   0,   0,  42, 221, 251, 131,   6,\n",
       "         0,  82, 232, 242, 189, 187, 187, 191, 204, 205, 250, 249,  93,\n",
       "         0,   0,   0,   0,   0,   0,   0,   0,   0,  20, 222, 225,  52,\n",
       "         0,   0,   0,   0,   0,   0,   0,   0,   0,   0,   0,   0,  28,\n",
       "       181, 251,  50,   0,   0,   0,   0,   0,   0,   0,   0, 166, 243,\n",
       "        46,   0,   0,   0,   0,   0,   0,   0,   0,   0,   0,   0,   0,\n",
       "         0,   0, 102, 255, 102,   0,   0,   0,   0,   0,   0,   0,  16,\n",
       "       247, 137,   0,   0,   0,   0,   0,   0,   0,   0,   0,   0,   0,\n",
       "         0,   0,   0,  72, 251, 179,   4,   0,   0,   0,   0,   0,   0,\n",
       "         0,  92, 255,  44,   0,   0,   0,   0,   0,   0,   0,   0,   0,\n",
       "         0,   0,   0,   0,   0, 197, 211,  10,   0,   0,   0,   0,   0,\n",
       "         0,   0,   0, 140, 239,   0,   0,   0,   0,   0,   0,   0,   0,\n",
       "         0,   0,   0,   0,   0,   0,   0, 188, 192,   0,   0,   0,   0,\n",
       "         0,   0,   0,   0,   0, 181, 199,   0,   0,   0,   0,   0,   0,\n",
       "         0,   0,   0,   0,   0,   0,   0,   0,   0, 145, 254, 174,   0,\n",
       "         0,   0,   0,   0,   0,   0,   0, 222, 158,   0,   0,   0,   0,\n",
       "         0,   0,   0,   0,   0,   0,   0,   0,   0,   0,   0,  56, 255,\n",
       "       141,  96, 118,   7,   0,   0,   0,   0,   9, 253, 118,   0,   0,\n",
       "         0,   0,   0,   0,   0,   0,   0,   0,   0,   0,   0,   0,   0,\n",
       "        79, 255, 217, 255, 255,  44,   0,   0,   0,   0,  37, 255,  85,\n",
       "         0,   0,   0,   0,   0,   0,   0,   0,   0,   0,   0,   0,   0,\n",
       "         0,   0,   9, 141, 186, 220, 238,   3,   0,   0,   0,   0,  43,\n",
       "       255,  79,   0,   0,   0,   0,   0,   0,   0,   0,   0,   0,   0,\n",
       "         0,   0,   0,   0,   0,   0,   0, 214, 174,   0,   0,   0,   0,\n",
       "         0,  47, 255,  75,   0,   0,   0,   0,   0,   0,   0,   0,   0,\n",
       "         0,   0,   0,   0,   0,   0,   0,   0,  46, 254, 105,   0,   0,\n",
       "         0,   0,   0,  52, 255,  70,   0,   0,   0,   0,   0,   0,   0,\n",
       "         0,   0,   0,   0,   0,   0,   0,   0,   0,   0, 182, 234,  13,\n",
       "         0,   0,   0,   0,   0,  56, 255,  65,   0,   0,   0,   0,   0,\n",
       "         0,   0,   0,   0,   0,   0,   0,   0,   0,   0,   0,  69, 255,\n",
       "       108,   0,   0,   0,   0,   0,   0,  52, 255, 139,  13,   0,   0,\n",
       "         0,   0,   0,   0,   0,   0,   0,   0,   0,   0,   0,   0,  38,\n",
       "       236, 209,   6,   0,   0,   0,   0,   0,   0,   1, 161, 254, 238,\n",
       "       134,  24,   0,   0,   0,   0,   0,   0,   0,   0,   0,   0,   4,\n",
       "       111, 239, 228,  28,   0,   0,   0,   0,   0,   0,   0,   0,   0,\n",
       "        45, 162, 250, 248, 159, 109,  77,  46,  15,   0,   0,  13,  82,\n",
       "       155, 229, 255, 174,  29,   0,   0,   0,   0,   0,   0,   0,   0,\n",
       "         0,   0,   0,   0,  29, 141, 234, 255, 255, 255, 255, 255, 255,\n",
       "       255, 255, 233, 161,  67,   0,   0,   0,   0,   0,   0,   0,   0,\n",
       "         0,   0,   0,   0,   0,   0,   0,   0,   0,  15,  45,  77, 109,\n",
       "       119, 119, 113,  54,   2,   0,   0,   0,   0,   0,   0,   0,   0,\n",
       "         0,   0,   0,   0,   0,   0,   0,   0,   0,   0,   0,   0,   0,\n",
       "         0,   0,   0,   0,   0,   0,   0,   0,   0,   0,   0,   0,   0,\n",
       "         0,   0,   0,   0], dtype=uint8)"
      ]
     },
     "execution_count": 12,
     "metadata": {},
     "output_type": "execute_result"
    }
   ],
   "source": [
    "images = []\n",
    "\n",
    "label= \"apple\"\n",
    "X = np.load('google_draw/{}.npy'.format(label))\n",
    "#print(\"Loaded {} out of {} {}s\".format(limit, X.shape[0], label))\n",
    "images.append(X[:limit])"
   ]
  },
  {
   "cell_type": "code",
   "execution_count": null,
   "metadata": {
    "collapsed": true
   },
   "outputs": [],
   "source": []
  },
  {
   "cell_type": "code",
   "execution_count": null,
   "metadata": {
    "collapsed": true
   },
   "outputs": [],
   "source": []
  }
 ],
 "metadata": {
  "kernelspec": {
   "display_name": "Python 3",
   "language": "python",
   "name": "python3"
  },
  "language_info": {
   "codemirror_mode": {
    "name": "ipython",
    "version": 3
   },
   "file_extension": ".py",
   "mimetype": "text/x-python",
   "name": "python",
   "nbconvert_exporter": "python",
   "pygments_lexer": "ipython3",
   "version": "3.6.8"
  }
 },
 "nbformat": 4,
 "nbformat_minor": 2
}
