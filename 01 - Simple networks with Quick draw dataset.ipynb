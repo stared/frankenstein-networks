{
 "cells": [
  {
   "cell_type": "markdown",
   "metadata": {},
   "source": [
    "# Brainhack 2019 - starter kit\n",
    "\n",
    "By [Piotr Migdał](https://p.migdal.pl) and Katarzyna Kańska.\n",
    "\n",
    "\n",
    "## Notebook 1: Simple networks for image classification\n",
    "We will use a subset of [The Quick, Draw! Dataset](https://github.com/googlecreativelab/quickdraw-dataset).\n",
    "\n",
    "Conveniet way to download selected classes (using [gsutil](https://cloud.google.com/storage/docs/gsutil_install)) `gsutil -m cp \"gs://quickdraw_dataset/full/numpy_bitmap/*.npy\" .`\n",
    "\n",
    "See: https://www.tensorflow.org/tutorials/sequences/recurrent_quickdraw"
   ]
  },
  {
   "cell_type": "code",
   "execution_count": 1,
   "metadata": {},
   "outputs": [],
   "source": [
    "%matplotlib inline\n",
    "import matplotlib.pyplot as plt\n",
    "import numpy as np\n",
    "from sklearn.model_selection import train_test_split\n",
    "from sklearn.metrics import confusion_matrix\n",
    "\n",
    "import torch\n",
    "from torch import nn, optim\n",
    "from torch.utils import data\n",
    "import torchvision\n",
    "from torchvision import datasets, transforms\n",
    "\n",
    "from livelossplot import PlotLosses"
   ]
  },
  {
   "cell_type": "code",
   "execution_count": 2,
   "metadata": {},
   "outputs": [
    {
     "data": {
      "text/plain": [
       "<torch._C.Generator at 0x7f8491caa330>"
      ]
     },
     "execution_count": 2,
     "metadata": {},
     "output_type": "execute_result"
    }
   ],
   "source": [
    "torch.manual_seed(42)"
   ]
  },
  {
   "cell_type": "markdown",
   "metadata": {},
   "source": [
    "## Data loading"
   ]
  },
  {
   "cell_type": "code",
   "execution_count": 3,
   "metadata": {},
   "outputs": [
    {
     "data": {
      "text/plain": [
       "['aircraft carrier',\n",
       " 'airplane',\n",
       " 'alarm clock',\n",
       " 'ambulance',\n",
       " 'angel',\n",
       " 'animal migration',\n",
       " 'ant',\n",
       " 'anvil',\n",
       " 'apple',\n",
       " 'arm',\n",
       " 'asparagus',\n",
       " 'axe',\n",
       " 'backpack',\n",
       " 'banana',\n",
       " 'bandage',\n",
       " 'barn',\n",
       " 'baseball',\n",
       " 'baseball bat',\n",
       " 'basket',\n",
       " 'basketball',\n",
       " 'bat',\n",
       " 'bathtub',\n",
       " 'beach',\n",
       " 'bear',\n",
       " 'beard',\n",
       " 'bed',\n",
       " 'bee',\n",
       " 'belt',\n",
       " 'bench',\n",
       " 'bicycle',\n",
       " 'binoculars',\n",
       " 'bird',\n",
       " 'birthday cake',\n",
       " 'blackberry',\n",
       " 'blueberry',\n",
       " 'book',\n",
       " 'boomerang',\n",
       " 'bottlecap',\n",
       " 'bowtie',\n",
       " 'bracelet',\n",
       " 'brain',\n",
       " 'bread',\n",
       " 'bridge',\n",
       " 'broccoli',\n",
       " 'broom',\n",
       " 'bucket',\n",
       " 'bulldozer',\n",
       " 'bus',\n",
       " 'bush',\n",
       " 'butterfly',\n",
       " 'cactus',\n",
       " 'cake',\n",
       " 'calculator',\n",
       " 'calendar',\n",
       " 'camel',\n",
       " 'camera',\n",
       " 'camouflage',\n",
       " 'campfire',\n",
       " 'candle',\n",
       " 'cannon',\n",
       " 'canoe',\n",
       " 'car',\n",
       " 'carrot',\n",
       " 'castle',\n",
       " 'cat',\n",
       " 'ceiling fan',\n",
       " 'cello',\n",
       " 'cell phone',\n",
       " 'chair',\n",
       " 'chandelier',\n",
       " 'church',\n",
       " 'circle',\n",
       " 'clarinet',\n",
       " 'clock',\n",
       " 'cloud',\n",
       " 'coffee cup',\n",
       " 'compass',\n",
       " 'computer',\n",
       " 'cookie',\n",
       " 'cooler',\n",
       " 'couch',\n",
       " 'cow',\n",
       " 'crab',\n",
       " 'crayon',\n",
       " 'crocodile',\n",
       " 'crown',\n",
       " 'cruise ship',\n",
       " 'cup',\n",
       " 'diamond',\n",
       " 'dishwasher',\n",
       " 'diving board',\n",
       " 'dog',\n",
       " 'dolphin',\n",
       " 'donut',\n",
       " 'door',\n",
       " 'dragon',\n",
       " 'dresser',\n",
       " 'drill',\n",
       " 'drums',\n",
       " 'duck',\n",
       " 'dumbbell',\n",
       " 'ear',\n",
       " 'elbow',\n",
       " 'elephant',\n",
       " 'envelope',\n",
       " 'eraser',\n",
       " 'eye',\n",
       " 'eyeglasses',\n",
       " 'face',\n",
       " 'fan',\n",
       " 'feather',\n",
       " 'fence',\n",
       " 'finger',\n",
       " 'fire hydrant',\n",
       " 'fireplace',\n",
       " 'firetruck',\n",
       " 'fish',\n",
       " 'flamingo',\n",
       " 'flashlight',\n",
       " 'flip flops',\n",
       " 'floor lamp',\n",
       " 'flower',\n",
       " 'flying saucer',\n",
       " 'foot',\n",
       " 'fork',\n",
       " 'frog',\n",
       " 'frying pan',\n",
       " 'garden',\n",
       " 'garden hose',\n",
       " 'giraffe',\n",
       " 'goatee',\n",
       " 'golf club',\n",
       " 'grapes',\n",
       " 'grass',\n",
       " 'guitar',\n",
       " 'hamburger',\n",
       " 'hammer',\n",
       " 'hand',\n",
       " 'harp',\n",
       " 'hat',\n",
       " 'headphones',\n",
       " 'hedgehog',\n",
       " 'helicopter',\n",
       " 'helmet',\n",
       " 'hexagon',\n",
       " 'hockey puck',\n",
       " 'hockey stick',\n",
       " 'horse',\n",
       " 'hospital',\n",
       " 'hot air balloon',\n",
       " 'hot dog',\n",
       " 'hot tub',\n",
       " 'hourglass',\n",
       " 'house',\n",
       " 'house plant',\n",
       " 'hurricane',\n",
       " 'ice cream',\n",
       " 'jacket',\n",
       " 'jail',\n",
       " 'kangaroo',\n",
       " 'key',\n",
       " 'keyboard',\n",
       " 'knee',\n",
       " 'knife',\n",
       " 'ladder',\n",
       " 'lantern',\n",
       " 'laptop',\n",
       " 'leaf',\n",
       " 'leg',\n",
       " 'light bulb',\n",
       " 'lighter',\n",
       " 'lighthouse',\n",
       " 'lightning',\n",
       " 'line',\n",
       " 'lion',\n",
       " 'lipstick',\n",
       " 'lobster',\n",
       " 'lollipop',\n",
       " 'mailbox',\n",
       " 'map',\n",
       " 'marker',\n",
       " 'matches',\n",
       " 'megaphone',\n",
       " 'mermaid',\n",
       " 'microphone',\n",
       " 'microwave',\n",
       " 'monkey',\n",
       " 'moon',\n",
       " 'mosquito',\n",
       " 'motorbike',\n",
       " 'mountain',\n",
       " 'mouse',\n",
       " 'moustache',\n",
       " 'mouth',\n",
       " 'mug',\n",
       " 'mushroom',\n",
       " 'nail',\n",
       " 'necklace',\n",
       " 'nose',\n",
       " 'ocean',\n",
       " 'octagon',\n",
       " 'octopus',\n",
       " 'onion',\n",
       " 'oven',\n",
       " 'owl',\n",
       " 'paintbrush',\n",
       " 'paint can',\n",
       " 'palm tree',\n",
       " 'panda',\n",
       " 'pants',\n",
       " 'paper clip',\n",
       " 'parachute',\n",
       " 'parrot',\n",
       " 'passport',\n",
       " 'peanut',\n",
       " 'pear',\n",
       " 'peas',\n",
       " 'pencil',\n",
       " 'penguin',\n",
       " 'piano',\n",
       " 'pickup truck',\n",
       " 'picture frame',\n",
       " 'pig',\n",
       " 'pillow',\n",
       " 'pineapple',\n",
       " 'pizza',\n",
       " 'pliers',\n",
       " 'police car',\n",
       " 'pond',\n",
       " 'pool',\n",
       " 'popsicle',\n",
       " 'postcard',\n",
       " 'potato',\n",
       " 'power outlet',\n",
       " 'purse',\n",
       " 'rabbit',\n",
       " 'raccoon',\n",
       " 'radio',\n",
       " 'rain',\n",
       " 'rainbow',\n",
       " 'rake',\n",
       " 'remote control',\n",
       " 'rhinoceros',\n",
       " 'rifle',\n",
       " 'river',\n",
       " 'roller coaster',\n",
       " 'rollerskates',\n",
       " 'sailboat',\n",
       " 'sandwich',\n",
       " 'saw',\n",
       " 'saxophone',\n",
       " 'school bus',\n",
       " 'scissors',\n",
       " 'scorpion',\n",
       " 'screwdriver',\n",
       " 'sea turtle',\n",
       " 'see saw',\n",
       " 'shark',\n",
       " 'sheep',\n",
       " 'shoe',\n",
       " 'shorts',\n",
       " 'shovel',\n",
       " 'sink',\n",
       " 'skateboard',\n",
       " 'skull',\n",
       " 'skyscraper',\n",
       " 'sleeping bag',\n",
       " 'smiley face',\n",
       " 'snail',\n",
       " 'snake',\n",
       " 'snorkel',\n",
       " 'snowflake',\n",
       " 'snowman',\n",
       " 'soccer ball',\n",
       " 'sock',\n",
       " 'speedboat',\n",
       " 'spider',\n",
       " 'spoon',\n",
       " 'spreadsheet',\n",
       " 'square',\n",
       " 'squiggle',\n",
       " 'squirrel',\n",
       " 'stairs',\n",
       " 'star',\n",
       " 'steak',\n",
       " 'stereo',\n",
       " 'stethoscope',\n",
       " 'stitches',\n",
       " 'stop sign',\n",
       " 'stove',\n",
       " 'strawberry',\n",
       " 'streetlight',\n",
       " 'string bean',\n",
       " 'submarine',\n",
       " 'suitcase',\n",
       " 'sun',\n",
       " 'swan',\n",
       " 'sweater',\n",
       " 'swing set',\n",
       " 'sword',\n",
       " 'syringe',\n",
       " 'table',\n",
       " 'teapot',\n",
       " 'teddy-bear',\n",
       " 'telephone',\n",
       " 'television',\n",
       " 'tennis racquet',\n",
       " 'tent',\n",
       " 'The Eiffel Tower',\n",
       " 'The Great Wall of China',\n",
       " 'The Mona Lisa',\n",
       " 'tiger',\n",
       " 'toaster',\n",
       " 'toe',\n",
       " 'toilet',\n",
       " 'tooth',\n",
       " 'toothbrush',\n",
       " 'toothpaste',\n",
       " 'tornado',\n",
       " 'tractor',\n",
       " 'traffic light',\n",
       " 'train',\n",
       " 'tree',\n",
       " 'triangle',\n",
       " 'trombone',\n",
       " 'truck',\n",
       " 'trumpet',\n",
       " 't-shirt',\n",
       " 'umbrella',\n",
       " 'underwear',\n",
       " 'van',\n",
       " 'vase',\n",
       " 'violin',\n",
       " 'washing machine',\n",
       " 'watermelon',\n",
       " 'waterslide',\n",
       " 'whale',\n",
       " 'wheel',\n",
       " 'windmill',\n",
       " 'wine bottle',\n",
       " 'wine glass',\n",
       " 'wristwatch',\n",
       " 'yoga',\n",
       " 'zebra',\n",
       " 'zigzag']"
      ]
     },
     "execution_count": 3,
     "metadata": {},
     "output_type": "execute_result"
    }
   ],
   "source": [
    "with open('google_draw/categories.txt') as f:\n",
    "    classes = [line.strip() for line in f.readlines()]\n",
    "\n",
    "classes"
   ]
  },
  {
   "cell_type": "code",
   "execution_count": 4,
   "metadata": {},
   "outputs": [
    {
     "name": "stdout",
     "output_type": "stream",
     "text": [
      "Loaded 500 out of 144722 apples\n",
      "Loaded 500 out of 209447 spiders\n",
      "Loaded 500 out of 150152 octopuss\n",
      "Loaded 500 out of 116685 snowflakes\n"
     ]
    }
   ],
   "source": [
    "classes = [\"apple\", \"spider\", \"octopus\", \"snowflake\"]\n",
    "limit = 500\n",
    "images = []\n",
    "\n",
    "for label in classes:\n",
    "    X = np.load('google_draw/{}.npy'.format(label))\n",
    "    print(\"Loaded {} out of {} {}s\".format(limit, X.shape[0], label))\n",
    "    images.append(X[:limit])\n",
    "\n",
    "X = np.concatenate(images)\n",
    "Y = np.concatenate([limit * [i] for i in range(len(classes))])"
   ]
  },
  {
   "cell_type": "code",
   "execution_count": 5,
   "metadata": {},
   "outputs": [
    {
     "data": {
      "text/plain": [
       "(2000, 784)"
      ]
     },
     "execution_count": 5,
     "metadata": {},
     "output_type": "execute_result"
    }
   ],
   "source": [
    "X.shape"
   ]
  },
  {
   "cell_type": "code",
   "execution_count": 6,
   "metadata": {},
   "outputs": [
    {
     "data": {
      "text/plain": [
       "dtype('uint8')"
      ]
     },
     "execution_count": 6,
     "metadata": {},
     "output_type": "execute_result"
    }
   ],
   "source": [
    "X.dtype"
   ]
  },
  {
   "cell_type": "code",
   "execution_count": 7,
   "metadata": {},
   "outputs": [
    {
     "data": {
      "text/plain": [
       "array([  0,   0,   0,   0,   0,   0,   0,   0,   0,   0,   0,   0,   0,\n",
       "         0,   0,   0,   0,   0,   0,   0,   0,   0,   0,   0,   0,   0,\n",
       "         0,   0,   0,   0,   0,   0,   0,   0,   0,   0,   0,   0,   0,\n",
       "         0,   0,   0,  11,  21,  12,   0,   0,   0,   0,   0,   0,   0,\n",
       "         0,  92,  20,   0,   0,   0,   0,   0,   0,   0,   0,   0,   0,\n",
       "         0,   0,   0,  91, 213, 253, 255, 255, 222,  95,   3,   0,   0,\n",
       "         0,   0,   7, 255, 222,   0,   0,   0,   0,   0,   0,   0,   0,\n",
       "         0,   0,   0,  24, 190, 255, 196, 118, 100, 109, 196, 255, 121,\n",
       "         0,   0,   0,   0,   0, 141,  35,   0,   0,   0,   0,   0,   0,\n",
       "         0,   0,   0,   0,   1, 185, 241,  94,   1,   0,   0,   0,   0,\n",
       "        63,  25,   0,   0,   0,   0,   0,   0,   0,   0,   0,   0,   0,\n",
       "         0,   0,   0,   0,   0,   0,  89, 255, 115, 133, 150,  37,   0,\n",
       "         0,   0,   0,   0,   0,   0,   0,   0,   0,   0,   0,   0,   0,\n",
       "         0,   0,   0,   0,   0,   0,   0,   0, 207, 241, 252, 255, 250,\n",
       "       199,   0,   0,   0,   0,   0,   0,   0,   0,   0,   0,   0,   0,\n",
       "         0,   0,   0,   0,   0,   0,   0,   0,  30, 200, 255, 242, 149,\n",
       "       252, 232, 195,   3,   0,   0,   0,   0,   0,   0,   0,   0,   0,\n",
       "         0,   0,   0,   0,   0,   0,   0,   0,   0,  39, 225, 238, 255,\n",
       "        85,   0, 119, 255,  83,   0,   0,   0,   0,   0,   0,   0,   0,\n",
       "         0,   0,   0,   0,   0,   0,   0,   0,   0,   0,  43, 229, 231,\n",
       "       106, 255,  49,   0,   1, 201, 222,   7,   0,   0,   0,   0,   0,\n",
       "         0,   0,   0,   0,   0,   0,   0,   0,   0,   0,   0,  33, 237,\n",
       "       220,  33,  79, 255,  75,   0,   0,  61, 255,  94,   0,   0,   0,\n",
       "         0,   0,   0,   0,   0,   0,   0,   0,   0,   0,   0,   0,   4,\n",
       "       197, 235,  28,   0,   4, 210, 166,   0,   0,   1, 250, 127,   0,\n",
       "         0,   0,   0,   0,   0,   0,   0,   0,   0,   0,   0,   0,   0,\n",
       "         0, 128, 255,  85,   0,   0,   0,  17,  16,   0,   0,   0, 231,\n",
       "       146,   0,   0,   0,   0,   0,   0,   0,   0,   0,   0,   0,   0,\n",
       "         0,   0,  56, 251, 153,   0,   0,   0,   0,   0,   0,   0,   0,\n",
       "         0, 228, 148,   0,   0,   0,   0,   0,   0,   0,   0,   0,   0,\n",
       "         0,   0,   0,   0, 162, 229,  11,   0,   0,   0,   0,   0,   0,\n",
       "         0,   0,   0, 246, 131,   0,   0,   0,   0,   0,   0,   0,   0,\n",
       "         0,   0,   0,   0,   0,   0, 219, 165,   0,   0,   0,   0,   0,\n",
       "         0,   0,   0,   0,  13, 255, 111,   0,   0,   0,   0,   0,   0,\n",
       "         0,   0,   0,   0,   0,   0,   0,  21, 254, 109,   0,   0,   0,\n",
       "         0,   0,   0,   0,   0,   0,  78, 255,  58,   0,   0,   0,   0,\n",
       "         0,   0,   0,   0,   0,   0,   0,   0,   0,  78, 255,  51,   0,\n",
       "         0,   0,   0,   0,   0,   0,   0,   0, 152, 237,   3,   0,   0,\n",
       "         0,   0,   0,   0,   0,   0,   0,   0,   0,   0,   0, 120, 254,\n",
       "         5,   0,   0,   0,   0,   0,   0,   0,   0,   3, 228, 165,   0,\n",
       "         0,   0,   0,   0,   0,   0,   0,   0,   0,   0,   0,   0,   0,\n",
       "       123, 254,   0,   0,   0,   0,   0,   0,   0,   0,   0,  72, 255,\n",
       "        74,   0,   0,   0,   0,   0,   0,   0,   0,   0,   0,   0,   0,\n",
       "         0,   0, 114, 255,  13,   0,   0,   0,   0,   0,   0,   0,   0,\n",
       "       169, 229,   3,   0,   0,   0,   0,   0,   0,   0,   0,   0,   0,\n",
       "         0,   0,   0,   0,  60, 255,  70,   0,   0,   0,   0,   0,   0,\n",
       "         0,  53, 252, 129,   0,   0,   0,   0,   0,   0,   0,   0,   0,\n",
       "         0,   0,   0,   0,   0,   0,   7, 239, 174,   0,   0,   0,   0,\n",
       "         0,   0,   6, 208, 222,  11,   0,   0,   0,   0,   0,   0,   0,\n",
       "         0,   0,   0,   0,   0,   0,   0,   0,   0, 110, 255, 100,   0,\n",
       "         0,   0,   0,   3, 170, 253,  70,   0,   0,   0,   0,   0,   0,\n",
       "         0,   0,   0,   0,   0,   0,   0,   0,   0,   0,   0,   3, 180,\n",
       "       255, 178,  99,  68,  91, 200, 254, 104,   0,   0,   0,   0,   0,\n",
       "         0,   0,   0,   0,   0,   0,   0,   0,   0,   0,   0,   0,   0,\n",
       "         0,   2, 116, 222, 255, 255, 255, 213,  87,   0,   0,   0,   0,\n",
       "         0,   0,   0,   0,   0,   0,   0,   0,   0,   0,   0,   0,   0,\n",
       "         0,   0,   0,   0,   0,   0,  32,  51,  44,   1,   0,   0,   0,\n",
       "         0,   0,   0,   0,   0,   0,   0,   0,   0,   0,   0,   0,   0,\n",
       "         0,   0,   0,   0,   0,   0,   0,   0,   0,   0,   0,   0,   0,\n",
       "         0,   0,   0,   0,   0,   0,   0,   0,   0,   0,   0,   0,   0,\n",
       "         0,   0,   0,   0], dtype=uint8)"
      ]
     },
     "execution_count": 7,
     "metadata": {},
     "output_type": "execute_result"
    }
   ],
   "source": [
    "X[0]"
   ]
  },
  {
   "cell_type": "code",
   "execution_count": 8,
   "metadata": {},
   "outputs": [
    {
     "data": {
      "text/plain": [
       "(2000, 1, 32, 32)"
      ]
     },
     "execution_count": 8,
     "metadata": {},
     "output_type": "execute_result"
    }
   ],
   "source": [
    "X = X.reshape(-1, 1, 28, 28)\n",
    "X = X.astype('float32') / 255.\n",
    "X = np.pad(X, [(0, 0), (0, 0), (2, 2), (2, 2)], mode='constant')\n",
    "\n",
    "# (samples, channels, x, y)\n",
    "X.shape"
   ]
  },
  {
   "cell_type": "code",
   "execution_count": 9,
   "metadata": {},
   "outputs": [
    {
     "data": {
      "text/plain": [
       "dtype('int64')"
      ]
     },
     "execution_count": 9,
     "metadata": {},
     "output_type": "execute_result"
    }
   ],
   "source": [
    "# answer keys are integers\n",
    "Y.dtype"
   ]
  },
  {
   "cell_type": "markdown",
   "metadata": {},
   "source": [
    "### Let's have a look"
   ]
  },
  {
   "cell_type": "code",
   "execution_count": 10,
   "metadata": {
    "scrolled": true
   },
   "outputs": [],
   "source": [
    "def draw_examples(X, Y, classes, rows=6, scale=1):\n",
    "    fig, axs = plt.subplots(rows, len(classes), figsize=(scale * len(classes), scale * rows))\n",
    "    size = X.shape[-1]\n",
    "    for class_id in range(len(classes)):\n",
    "        X_class = X[Y == class_id]\n",
    "        for i in range(rows):\n",
    "            ax = axs[i, class_id]\n",
    "            x = X_class[np.random.randint(len(X_class))].reshape(size, size)\n",
    "            ax.imshow(x, cmap='Greys', interpolation='none')\n",
    "            ax.axis('off')"
   ]
  },
  {
   "cell_type": "code",
   "execution_count": 11,
   "metadata": {},
   "outputs": [
    {
     "data": {
      "image/png": "[encoded data removed]",
      "text/plain": [
       "<Figure size 576x864 with 24 Axes>"
      ]
     },
     "metadata": {
      "needs_background": "light"
     },
     "output_type": "display_data"
    }
   ],
   "source": [
    "draw_examples(X, Y, classes, rows=6, scale=2)"
   ]
  },
  {
   "cell_type": "markdown",
   "metadata": {},
   "source": [
    "## Train-test split"
   ]
  },
  {
   "cell_type": "code",
   "execution_count": 12,
   "metadata": {},
   "outputs": [],
   "source": [
    "X_train, X_test, Y_train, Y_test = train_test_split(X, Y, test_size=0.25, random_state=42)"
   ]
  },
  {
   "cell_type": "markdown",
   "metadata": {},
   "source": [
    "## Datasets and data loaders\n",
    "\n",
    "We need to create data loaders to load and preprocess data. We use split:\n",
    "* train - for training,\n",
    "* validation - not used for training, but to evaluate model performance."
   ]
  },
  {
   "cell_type": "code",
   "execution_count": 13,
   "metadata": {},
   "outputs": [],
   "source": [
    "# define data loaders\n",
    "dataloaders = {\n",
    "    'train':\n",
    "    data.DataLoader(\n",
    "        data.TensorDataset(torch.from_numpy(X_train), torch.from_numpy(Y_train).long()),\n",
    "        batch_size=64,\n",
    "        shuffle=True, num_workers=4\n",
    "    ),\n",
    "    'validation': \n",
    "    data.DataLoader(\n",
    "        data.TensorDataset(torch.from_numpy(X_test), torch.from_numpy(Y_test).long()),\n",
    "        batch_size=64,\n",
    "        shuffle=False, num_workers=4\n",
    "    )\n",
    "}"
   ]
  },
  {
   "cell_type": "markdown",
   "metadata": {},
   "source": [
    "## Before we start\n",
    "\n",
    "While training a model, it is important to set `train` or `eval` mode of the model, as some layers have different behavior during train and evaluation.\n",
    "\n",
    "See also: [Keras vs. PyTorch: Alien vs. Predator recognition with transfer learning](https://deepsense.ai/keras-vs-pytorch-avp-transfer-learning) which explains API differences between these frameworks."
   ]
  },
  {
   "cell_type": "code",
   "execution_count": 14,
   "metadata": {},
   "outputs": [],
   "source": [
    "device = torch.device('cuda:0' if torch.cuda.is_available() else 'cpu')\n",
    "\n",
    "def train_model(model, criterion, optimizer, num_epochs=10):\n",
    "    liveloss = PlotLosses()\n",
    "    model = model.to(device)\n",
    "    \n",
    "    for epoch in range(num_epochs):\n",
    "        logs = {}\n",
    "        for phase in ['train', 'validation']:\n",
    "            if phase == 'train':\n",
    "                model.train()\n",
    "            else:\n",
    "                model.eval()\n",
    "\n",
    "            running_loss = 0.0\n",
    "            running_corrects = 0\n",
    "\n",
    "            for inputs, labels in dataloaders[phase]:\n",
    "                inputs = inputs.to(device)\n",
    "                labels = labels.to(device)\n",
    "\n",
    "                outputs = model(inputs)\n",
    "                loss = criterion(outputs, labels)\n",
    "\n",
    "                if phase == 'train':\n",
    "                    optimizer.zero_grad()\n",
    "                    loss.backward()\n",
    "                    optimizer.step()\n",
    "\n",
    "                _, preds = torch.max(outputs, 1)\n",
    "                running_loss += loss.item() * inputs.size(0)\n",
    "                running_corrects += (preds == labels.data).sum().item()\n",
    "\n",
    "            epoch_loss = running_loss / len(dataloaders[phase].dataset)\n",
    "            epoch_acc = running_corrects / len(dataloaders[phase].dataset)\n",
    "            \n",
    "            prefix = ''\n",
    "            if phase == 'validation':\n",
    "                prefix = 'val_'\n",
    "\n",
    "            logs[prefix + 'log loss'] = epoch_loss\n",
    "            logs[prefix + 'accuracy'] = epoch_acc\n",
    "        \n",
    "        liveloss.update(logs)\n",
    "        liveloss.draw()\n",
    "    return model"
   ]
  },
  {
   "cell_type": "code",
   "execution_count": 15,
   "metadata": {},
   "outputs": [
    {
     "data": {
      "text/plain": [
       "device(type='cpu')"
      ]
     },
     "execution_count": 15,
     "metadata": {},
     "output_type": "execute_result"
    }
   ],
   "source": [
    "device"
   ]
  },
  {
   "cell_type": "markdown",
   "metadata": {},
   "source": [
    "## Convolutional neural network\n",
    "\n",
    "Treating an image as a flat vector looses its spatial structure. Instead we can use the spacial structure in our advantage and perform convolutions.\n",
    "Convolution is an operation which performs the same local operation on each part of the image.\n",
    "\n",
    "![](https://github.com/vdumoulin/conv_arithmetic/blob/master/gif/same_padding_no_strides.gif?raw=true)\n",
    "\n",
    "Each convolution layer produces new channels based on those which preceded it. First, we start with 3 channels for red, green and blue (RGB) components. Next, channels get more and more abstract.\n",
    "\n",
    "While producing new channels with representations of various properties of the image, we also reduce the resolution, usually using pooling layers.\n",
    "\n",
    "See also:\n",
    "* [Image Kernels - visually explained](http://setosa.io/ev/image-kernels/)\n",
    "* [How neural networks build up their understanding of images](https://distill.pub/2017/feature-visualization/)\n",
    "* source of above image: [Convolution arithmetic](https://github.com/vdumoulin/conv_arithmetic)\n",
    "* [Convolutional Neural Networks by Andrej Karpathy](http://cs231n.github.io/convolutional-networks/) for in-depth explanation of convolutions and other accompanying blocks"
   ]
  },
  {
   "cell_type": "code",
   "execution_count": 16,
   "metadata": {},
   "outputs": [],
   "source": [
    "# antipattern in PyTorch, don't do it!\n",
    "class Flatten(nn.Module):\n",
    "    def forward(self, x):\n",
    "        return x.view(x.size(0), -1)"
   ]
  },
  {
   "cell_type": "code",
   "execution_count": 17,
   "metadata": {},
   "outputs": [],
   "source": [
    "class ConvNet(nn.Module):\n",
    "    def __init__(self):\n",
    "        super().__init__()\n",
    "        self.conv1 = self._conv_block(1, 16)\n",
    "        self.conv2 = self._conv_block(16, 32)\n",
    "        self.conv3 = self._conv_block(32, 64)\n",
    "        \n",
    "        self.fc = nn.Sequential(\n",
    "            Flatten(),\n",
    "            nn.Linear(64 * 4 * 4, 128),\n",
    "            nn.ReLU(inplace=True),\n",
    "            nn.Dropout(0.5),\n",
    "            nn.Linear(128, len(classes))\n",
    "        )\n",
    "    \n",
    "    def _conv_block(self, in_channels, out_channels):\n",
    "        return nn.Sequential(\n",
    "            nn.Conv2d(in_channels, out_channels, kernel_size=3, padding=1),\n",
    "            nn.ReLU(inplace=True),\n",
    "            nn.MaxPool2d(2, 2)\n",
    "        )\n",
    "    \n",
    "    def forward(self, x):\n",
    "        x = self.conv1(x)\n",
    "        x = self.conv2(x)\n",
    "        x = self.conv3(x)\n",
    "        x = self.fc(x)\n",
    "        return x"
   ]
  },
  {
   "cell_type": "code",
   "execution_count": 18,
   "metadata": {},
   "outputs": [],
   "source": [
    "def make_connector(in_channels, out_channels, intermediate_channels=None):\n",
    "    if not intermediate_channels:\n",
    "        intermediate_channels = in_channels\n",
    "    \n",
    "    return nn.Sequential(\n",
    "        nn.Conv2d(in_channels, intermediate_channels, kernel_size=1, padding=0),\n",
    "        nn.ReLU(inplace=True),\n",
    "        nn.Conv2d(intermediate_channels, out_channels, kernel_size=1, padding=0),\n",
    "        nn.ReLU(inplace=True)\n",
    "    )"
   ]
  },
  {
   "cell_type": "code",
   "execution_count": 19,
   "metadata": {},
   "outputs": [],
   "source": [
    "class SewnConvNet(nn.Module):\n",
    "    def __init__(self, net_before, net_after, connector):\n",
    "        super().__init__()\n",
    "        self.net_before = net_before.eval()\n",
    "        self.net_after = net_after.eval()\n",
    "        self.connector = connector\n",
    "        \n",
    "        self._assert_channels()\n",
    "    \n",
    "    def forward(self, x):\n",
    "        x = self.net_before(x)\n",
    "        x = self.connector(x)\n",
    "        x = self.net_after(x)\n",
    "        return x\n",
    "    \n",
    "    def _assert_channels(self):\n",
    "        '''\n",
    "        net_before, net_after, connector - nn.Sequential or nn.ModuleList\n",
    "        '''\n",
    "        before_out_channels = self._find_out_channels(self.net_before)\n",
    "        connector_in_channels = self._find_in_channels(self.connector)\n",
    "        if before_out_channels != connector_in_channels:\n",
    "            raise ValueError('Connector has {} input channels, expected {}.'.format(\n",
    "                connector_in_channels, before_out_channels)\n",
    "            )\n",
    "        \n",
    "        connector_out_channels = self._find_out_channels(self.connector)\n",
    "        after_in_channels = self._find_in_channels(self.net_after)\n",
    "        if after_in_channels != connector_out_channels:\n",
    "            raise ValueError('Connector has {} output channels, expected {}.'.format(\n",
    "                connector_out_channels, after_in_channels)\n",
    "            )\n",
    "    \n",
    "    def parameters(self, recurse=True):\n",
    "        return self.connector.parameters()\n",
    "    \n",
    "    def train(self, mode=True):\n",
    "        self.training = mode\n",
    "        self.connector.train(mode)\n",
    "        return self\n",
    "    \n",
    "    def eval(self):\n",
    "        return self.train(False)\n",
    "    \n",
    "    def _find_in_channels(self, half):\n",
    "        for m in half.modules():\n",
    "            if isinstance(m, nn.Conv2d):\n",
    "                return m.in_channels\n",
    "            if isinstance(m, nn.Linear):\n",
    "                return m.in_features\n",
    "    \n",
    "    def _find_out_channels(self, half):\n",
    "        out_channels = None\n",
    "        for m in half.modules():\n",
    "            if isinstance(m, nn.Conv2d):\n",
    "                out_channels = m.out_channels\n",
    "            if isinstance(m, nn.Linear):\n",
    "                out_channels = m.out_features\n",
    "        return out_channels"
   ]
  },
  {
   "cell_type": "code",
   "execution_count": 20,
   "metadata": {},
   "outputs": [],
   "source": [
    "model1 = ConvNet()\n",
    "criterion = nn.CrossEntropyLoss()\n",
    "optimizer1 = optim.Adam(model1.parameters(), lr=1e-4)"
   ]
  },
  {
   "cell_type": "code",
   "execution_count": 21,
   "metadata": {},
   "outputs": [
    {
     "data": {
      "image/png": "[encoded data removed]",
      "text/plain": [
       "<Figure size 864x576 with 2 Axes>"
      ]
     },
     "metadata": {
      "needs_background": "light"
     },
     "output_type": "display_data"
    },
    {
     "name": "stdout",
     "output_type": "stream",
     "text": [
      "accuracy:\n",
      "training   (min:    0.287, max:    0.816, cur:    0.816)\n",
      "validation (min:    0.270, max:    0.830, cur:    0.830)\n",
      "\n",
      "log loss:\n",
      "training   (min:    0.521, max:    1.380, cur:    0.526)\n",
      "validation (min:    0.479, max:    1.372, cur:    0.483)\n"
     ]
    }
   ],
   "source": [
    "model1_trained = train_model(model1, criterion, optimizer1, num_epochs=20)"
   ]
  },
  {
   "cell_type": "markdown",
   "metadata": {},
   "source": [
    "## Implant layer into one trained network"
   ]
  },
  {
   "cell_type": "code",
   "execution_count": 22,
   "metadata": {},
   "outputs": [],
   "source": [
    "net_before = nn.Sequential(\n",
    "    model1.conv1,\n",
    "    model1.conv2,\n",
    ")\n",
    "\n",
    "net_after = nn.Sequential(\n",
    "    model1.conv3,\n",
    "    model1.fc\n",
    ")\n",
    "\n",
    "connector = make_connector(32, 32)"
   ]
  },
  {
   "cell_type": "code",
   "execution_count": 25,
   "metadata": {},
   "outputs": [
    {
     "data": {
      "image/png": "[encoded data removed]",
      "text/plain": [
       "<Figure size 864x576 with 2 Axes>"
      ]
     },
     "metadata": {
      "needs_background": "light"
     },
     "output_type": "display_data"
    },
    {
     "name": "stdout",
     "output_type": "stream",
     "text": [
      "accuracy:\n",
      "training   (min:    0.243, max:    0.803, cur:    0.802)\n",
      "validation (min:    0.272, max:    0.822, cur:    0.808)\n",
      "\n",
      "log loss:\n",
      "training   (min:    0.797, max:    1.536, cur:    0.797)\n",
      "validation (min:    0.789, max:    1.482, cur:    0.789)\n"
     ]
    }
   ],
   "source": [
    "sewn_model1 = SewnConvNet(net_before, net_after, connector)\n",
    "optimizer = optim.Adam(sewn_model1.parameters(), lr=1e-4)\n",
    "\n",
    "sewn_model1_trained = train_model(sewn_model1, criterion, optimizer, num_epochs=20)"
   ]
  },
  {
   "cell_type": "markdown",
   "metadata": {},
   "source": [
    "## Sew two trained networks"
   ]
  },
  {
   "cell_type": "code",
   "execution_count": 26,
   "metadata": {},
   "outputs": [
    {
     "data": {
      "image/png": "[encoded data removed]",
      "text/plain": [
       "<Figure size 864x576 with 2 Axes>"
      ]
     },
     "metadata": {
      "needs_background": "light"
     },
     "output_type": "display_data"
    },
    {
     "name": "stdout",
     "output_type": "stream",
     "text": [
      "accuracy:\n",
      "training   (min:    0.283, max:    0.819, cur:    0.810)\n",
      "validation (min:    0.242, max:    0.846, cur:    0.842)\n",
      "\n",
      "log loss:\n",
      "training   (min:    0.505, max:    1.380, cur:    0.526)\n",
      "validation (min:    0.470, max:    1.372, cur:    0.470)\n"
     ]
    }
   ],
   "source": [
    "model2 = ConvNet()\n",
    "optimizer2 = optim.Adam(model2.parameters(), lr=1e-4)\n",
    "\n",
    "model2_trained = train_model(model2, criterion, optimizer2, num_epochs=20)"
   ]
  },
  {
   "cell_type": "code",
   "execution_count": 27,
   "metadata": {},
   "outputs": [],
   "source": [
    "net_before = nn.Sequential(\n",
    "    model1.conv1,\n",
    "    model1.conv2,\n",
    ")\n",
    "\n",
    "net_after = nn.Sequential(\n",
    "    model2.conv3,\n",
    "    model2.fc\n",
    ")\n",
    "\n",
    "connector = make_connector(32, 32)"
   ]
  },
  {
   "cell_type": "code",
   "execution_count": 28,
   "metadata": {},
   "outputs": [
    {
     "data": {
      "image/png": "[encoded data removed]",
      "text/plain": [
       "<Figure size 864x576 with 2 Axes>"
      ]
     },
     "metadata": {
      "needs_background": "light"
     },
     "output_type": "display_data"
    },
    {
     "name": "stdout",
     "output_type": "stream",
     "text": [
      "accuracy:\n",
      "training   (min:    0.243, max:    0.819, cur:    0.819)\n",
      "validation (min:    0.272, max:    0.830, cur:    0.818)\n",
      "\n",
      "log loss:\n",
      "training   (min:    0.663, max:    1.391, cur:    0.663)\n",
      "validation (min:    0.653, max:    1.345, cur:    0.653)\n"
     ]
    }
   ],
   "source": [
    "sewn_model2 = SewnConvNet(net_before, net_after, connector)\n",
    "optimizer = optim.Adam(sewn_model2.parameters(), lr=1e-4)\n",
    "\n",
    "sewn_model2_trained = train_model(sewn_model2, criterion, optimizer, num_epochs=20)"
   ]
  },
  {
   "cell_type": "code",
   "execution_count": null,
   "metadata": {},
   "outputs": [],
   "source": [
    "# dla chetnych:\n",
    "#\n",
    "# def _weights_init(model):\n",
    "#     def weights_init(m):\n",
    "#         if isinstance(m, nn.Linear):\n",
    "#             nn.init.xavier_uniform_(m.weight.data)\n",
    "#             nn.init.zeros_(m.bias.data)\n",
    "\n",
    "#     model.apply(weights_init)"
   ]
  }
 ],
 "metadata": {
  "kernelspec": {
   "display_name": "Python 3",
   "language": "python",
   "name": "python3"
  },
  "language_info": {
   "codemirror_mode": {
    "name": "ipython",
    "version": 3
   },
   "file_extension": ".py",
   "mimetype": "text/x-python",
   "name": "python",
   "nbconvert_exporter": "python",
   "pygments_lexer": "ipython3",
   "version": "3.7.1"
  }
 },
 "nbformat": 4,
 "nbformat_minor": 2
}
