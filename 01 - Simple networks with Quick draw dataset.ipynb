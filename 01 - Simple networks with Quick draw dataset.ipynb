{
 "cells": [
  {
   "cell_type": "markdown",
   "metadata": {},
   "source": [
    "# Brainhack 2019 - starter kit\n",
    "\n",
    "By [Piotr Migdał](https://p.migdal.pl) and Katarzyna Kańska.\n",
    "\n",
    "\n",
    "## Notebook 1: Simple networks for image classification\n",
    "We will use a subset of [The Quick, Draw! Dataset](https://github.com/googlecreativelab/quickdraw-dataset).\n",
    "\n",
    "Conveniet way to download selected classes (using [gsutil](https://cloud.google.com/storage/docs/gsutil_install)) `gsutil -m cp \"gs://quickdraw_dataset/full/numpy_bitmap/*.npy\" .`\n",
    "\n",
    "See: https://www.tensorflow.org/tutorials/sequences/recurrent_quickdraw"
   ]
  },
  {
   "cell_type": "code",
   "execution_count": 1,
   "metadata": {},
   "outputs": [
    {
     "name": "stderr",
     "output_type": "stream",
     "text": [
      "/Users/pmigdal/anaconda3/lib/python3.5/site-packages/sklearn/utils/fixes.py:313: FutureWarning: numpy not_equal will not check object identity in the future. The comparison did not return the same result as suggested by the identity (`is`)) and will change.\n",
      "  _nan_object_mask = _nan_object_array != _nan_object_array\n"
     ]
    }
   ],
   "source": [
    "%matplotlib inline\n",
    "import matplotlib.pyplot as plt\n",
    "import numpy as np\n",
    "from sklearn.model_selection import train_test_split\n",
    "from sklearn.metrics import confusion_matrix\n",
    "\n",
    "import torch\n",
    "from torch import nn, optim\n",
    "from torch.utils import data\n",
    "import torchvision\n",
    "from torchvision import datasets, transforms\n",
    "\n",
    "from livelossplot import PlotLosses"
   ]
  },
  {
   "cell_type": "code",
   "execution_count": 2,
   "metadata": {},
   "outputs": [
    {
     "data": {
      "text/plain": [
       "<torch._C.Generator at 0x11d49e770>"
      ]
     },
     "execution_count": 2,
     "metadata": {},
     "output_type": "execute_result"
    }
   ],
   "source": [
    "torch.manual_seed(42)"
   ]
  },
  {
   "cell_type": "markdown",
   "metadata": {},
   "source": [
    "## Data loading"
   ]
  },
  {
   "cell_type": "code",
   "execution_count": 25,
   "metadata": {},
   "outputs": [
    {
     "data": {
      "text/plain": [
       "['aircraft carrier',\n",
       " 'airplane',\n",
       " 'alarm clock',\n",
       " 'ambulance',\n",
       " 'angel',\n",
       " 'animal migration',\n",
       " 'ant',\n",
       " 'anvil',\n",
       " 'apple',\n",
       " 'arm',\n",
       " 'asparagus',\n",
       " 'axe',\n",
       " 'backpack',\n",
       " 'banana',\n",
       " 'bandage',\n",
       " 'barn',\n",
       " 'baseball',\n",
       " 'baseball bat',\n",
       " 'basket',\n",
       " 'basketball',\n",
       " 'bat',\n",
       " 'bathtub',\n",
       " 'beach',\n",
       " 'bear',\n",
       " 'beard',\n",
       " 'bed',\n",
       " 'bee',\n",
       " 'belt',\n",
       " 'bench',\n",
       " 'bicycle',\n",
       " 'binoculars',\n",
       " 'bird',\n",
       " 'birthday cake',\n",
       " 'blackberry',\n",
       " 'blueberry',\n",
       " 'book',\n",
       " 'boomerang',\n",
       " 'bottlecap',\n",
       " 'bowtie',\n",
       " 'bracelet',\n",
       " 'brain',\n",
       " 'bread',\n",
       " 'bridge',\n",
       " 'broccoli',\n",
       " 'broom',\n",
       " 'bucket',\n",
       " 'bulldozer',\n",
       " 'bus',\n",
       " 'bush',\n",
       " 'butterfly',\n",
       " 'cactus',\n",
       " 'cake',\n",
       " 'calculator',\n",
       " 'calendar',\n",
       " 'camel',\n",
       " 'camera',\n",
       " 'camouflage',\n",
       " 'campfire',\n",
       " 'candle',\n",
       " 'cannon',\n",
       " 'canoe',\n",
       " 'car',\n",
       " 'carrot',\n",
       " 'castle',\n",
       " 'cat',\n",
       " 'ceiling fan',\n",
       " 'cello',\n",
       " 'cell phone',\n",
       " 'chair',\n",
       " 'chandelier',\n",
       " 'church',\n",
       " 'circle',\n",
       " 'clarinet',\n",
       " 'clock',\n",
       " 'cloud',\n",
       " 'coffee cup',\n",
       " 'compass',\n",
       " 'computer',\n",
       " 'cookie',\n",
       " 'cooler',\n",
       " 'couch',\n",
       " 'cow',\n",
       " 'crab',\n",
       " 'crayon',\n",
       " 'crocodile',\n",
       " 'crown',\n",
       " 'cruise ship',\n",
       " 'cup',\n",
       " 'diamond',\n",
       " 'dishwasher',\n",
       " 'diving board',\n",
       " 'dog',\n",
       " 'dolphin',\n",
       " 'donut',\n",
       " 'door',\n",
       " 'dragon',\n",
       " 'dresser',\n",
       " 'drill',\n",
       " 'drums',\n",
       " 'duck',\n",
       " 'dumbbell',\n",
       " 'ear',\n",
       " 'elbow',\n",
       " 'elephant',\n",
       " 'envelope',\n",
       " 'eraser',\n",
       " 'eye',\n",
       " 'eyeglasses',\n",
       " 'face',\n",
       " 'fan',\n",
       " 'feather',\n",
       " 'fence',\n",
       " 'finger',\n",
       " 'fire hydrant',\n",
       " 'fireplace',\n",
       " 'firetruck',\n",
       " 'fish',\n",
       " 'flamingo',\n",
       " 'flashlight',\n",
       " 'flip flops',\n",
       " 'floor lamp',\n",
       " 'flower',\n",
       " 'flying saucer',\n",
       " 'foot',\n",
       " 'fork',\n",
       " 'frog',\n",
       " 'frying pan',\n",
       " 'garden',\n",
       " 'garden hose',\n",
       " 'giraffe',\n",
       " 'goatee',\n",
       " 'golf club',\n",
       " 'grapes',\n",
       " 'grass',\n",
       " 'guitar',\n",
       " 'hamburger',\n",
       " 'hammer',\n",
       " 'hand',\n",
       " 'harp',\n",
       " 'hat',\n",
       " 'headphones',\n",
       " 'hedgehog',\n",
       " 'helicopter',\n",
       " 'helmet',\n",
       " 'hexagon',\n",
       " 'hockey puck',\n",
       " 'hockey stick',\n",
       " 'horse',\n",
       " 'hospital',\n",
       " 'hot air balloon',\n",
       " 'hot dog',\n",
       " 'hot tub',\n",
       " 'hourglass',\n",
       " 'house',\n",
       " 'house plant',\n",
       " 'hurricane',\n",
       " 'ice cream',\n",
       " 'jacket',\n",
       " 'jail',\n",
       " 'kangaroo',\n",
       " 'key',\n",
       " 'keyboard',\n",
       " 'knee',\n",
       " 'knife',\n",
       " 'ladder',\n",
       " 'lantern',\n",
       " 'laptop',\n",
       " 'leaf',\n",
       " 'leg',\n",
       " 'light bulb',\n",
       " 'lighter',\n",
       " 'lighthouse',\n",
       " 'lightning',\n",
       " 'line',\n",
       " 'lion',\n",
       " 'lipstick',\n",
       " 'lobster',\n",
       " 'lollipop',\n",
       " 'mailbox',\n",
       " 'map',\n",
       " 'marker',\n",
       " 'matches',\n",
       " 'megaphone',\n",
       " 'mermaid',\n",
       " 'microphone',\n",
       " 'microwave',\n",
       " 'monkey',\n",
       " 'moon',\n",
       " 'mosquito',\n",
       " 'motorbike',\n",
       " 'mountain',\n",
       " 'mouse',\n",
       " 'moustache',\n",
       " 'mouth',\n",
       " 'mug',\n",
       " 'mushroom',\n",
       " 'nail',\n",
       " 'necklace',\n",
       " 'nose',\n",
       " 'ocean',\n",
       " 'octagon',\n",
       " 'octopus',\n",
       " 'onion',\n",
       " 'oven',\n",
       " 'owl',\n",
       " 'paintbrush',\n",
       " 'paint can',\n",
       " 'palm tree',\n",
       " 'panda',\n",
       " 'pants',\n",
       " 'paper clip',\n",
       " 'parachute',\n",
       " 'parrot',\n",
       " 'passport',\n",
       " 'peanut',\n",
       " 'pear',\n",
       " 'peas',\n",
       " 'pencil',\n",
       " 'penguin',\n",
       " 'piano',\n",
       " 'pickup truck',\n",
       " 'picture frame',\n",
       " 'pig',\n",
       " 'pillow',\n",
       " 'pineapple',\n",
       " 'pizza',\n",
       " 'pliers',\n",
       " 'police car',\n",
       " 'pond',\n",
       " 'pool',\n",
       " 'popsicle',\n",
       " 'postcard',\n",
       " 'potato',\n",
       " 'power outlet',\n",
       " 'purse',\n",
       " 'rabbit',\n",
       " 'raccoon',\n",
       " 'radio',\n",
       " 'rain',\n",
       " 'rainbow',\n",
       " 'rake',\n",
       " 'remote control',\n",
       " 'rhinoceros',\n",
       " 'rifle',\n",
       " 'river',\n",
       " 'roller coaster',\n",
       " 'rollerskates',\n",
       " 'sailboat',\n",
       " 'sandwich',\n",
       " 'saw',\n",
       " 'saxophone',\n",
       " 'school bus',\n",
       " 'scissors',\n",
       " 'scorpion',\n",
       " 'screwdriver',\n",
       " 'sea turtle',\n",
       " 'see saw',\n",
       " 'shark',\n",
       " 'sheep',\n",
       " 'shoe',\n",
       " 'shorts',\n",
       " 'shovel',\n",
       " 'sink',\n",
       " 'skateboard',\n",
       " 'skull',\n",
       " 'skyscraper',\n",
       " 'sleeping bag',\n",
       " 'smiley face',\n",
       " 'snail',\n",
       " 'snake',\n",
       " 'snorkel',\n",
       " 'snowflake',\n",
       " 'snowman',\n",
       " 'soccer ball',\n",
       " 'sock',\n",
       " 'speedboat',\n",
       " 'spider',\n",
       " 'spoon',\n",
       " 'spreadsheet',\n",
       " 'square',\n",
       " 'squiggle',\n",
       " 'squirrel',\n",
       " 'stairs',\n",
       " 'star',\n",
       " 'steak',\n",
       " 'stereo',\n",
       " 'stethoscope',\n",
       " 'stitches',\n",
       " 'stop sign',\n",
       " 'stove',\n",
       " 'strawberry',\n",
       " 'streetlight',\n",
       " 'string bean',\n",
       " 'submarine',\n",
       " 'suitcase',\n",
       " 'sun',\n",
       " 'swan',\n",
       " 'sweater',\n",
       " 'swing set',\n",
       " 'sword',\n",
       " 'syringe',\n",
       " 'table',\n",
       " 'teapot',\n",
       " 'teddy-bear',\n",
       " 'telephone',\n",
       " 'television',\n",
       " 'tennis racquet',\n",
       " 'tent',\n",
       " 'The Eiffel Tower',\n",
       " 'The Great Wall of China',\n",
       " 'The Mona Lisa',\n",
       " 'tiger',\n",
       " 'toaster',\n",
       " 'toe',\n",
       " 'toilet',\n",
       " 'tooth',\n",
       " 'toothbrush',\n",
       " 'toothpaste',\n",
       " 'tornado',\n",
       " 'tractor',\n",
       " 'traffic light',\n",
       " 'train',\n",
       " 'tree',\n",
       " 'triangle',\n",
       " 'trombone',\n",
       " 'truck',\n",
       " 'trumpet',\n",
       " 't-shirt',\n",
       " 'umbrella',\n",
       " 'underwear',\n",
       " 'van',\n",
       " 'vase',\n",
       " 'violin',\n",
       " 'washing machine',\n",
       " 'watermelon',\n",
       " 'waterslide',\n",
       " 'whale',\n",
       " 'wheel',\n",
       " 'windmill',\n",
       " 'wine bottle',\n",
       " 'wine glass',\n",
       " 'wristwatch',\n",
       " 'yoga',\n",
       " 'zebra',\n",
       " 'zigzag']"
      ]
     },
     "execution_count": 25,
     "metadata": {},
     "output_type": "execute_result"
    }
   ],
   "source": [
    "with open('google_draw/categories.txt') as f:\n",
    "    classes = [line.strip() for line in f.readlines()]\n",
    "\n",
    "classes"
   ]
  },
  {
   "cell_type": "code",
   "execution_count": 26,
   "metadata": {},
   "outputs": [
    {
     "data": {
      "text/plain": [
       "[1, 1, 1, 1, 1, 1, 1, 1, 1, 1]"
      ]
     },
     "execution_count": 26,
     "metadata": {},
     "output_type": "execute_result"
    }
   ],
   "source": [
    "10 * [1]"
   ]
  },
  {
   "cell_type": "code",
   "execution_count": 27,
   "metadata": {},
   "outputs": [
    {
     "name": "stdout",
     "output_type": "stream",
     "text": [
      "Loaded 500 out of 144722 apples\n",
      "Loaded 500 out of 209447 spiders\n",
      "Loaded 500 out of 150152 octopuss\n",
      "Loaded 500 out of 116685 snowflakes\n"
     ]
    }
   ],
   "source": [
    "classes = [\"apple\", \"spider\", \"octopus\", \"snowflake\"]\n",
    "limit = 500\n",
    "images = []\n",
    "\n",
    "for label in classes:\n",
    "    X = np.load('google_draw/{}.npy'.format(label))\n",
    "    print(\"Loaded {} out of {} {}s\".format(limit, X.shape[0], label))\n",
    "    images.append(X[:limit])\n",
    "\n",
    "X = np.concatenate(images)\n",
    "Y = np.concatenate([limit * [i] for i in range(len(classes))])"
   ]
  },
  {
   "cell_type": "code",
   "execution_count": 28,
   "metadata": {},
   "outputs": [
    {
     "data": {
      "text/plain": [
       "(2000, 784)"
      ]
     },
     "execution_count": 28,
     "metadata": {},
     "output_type": "execute_result"
    }
   ],
   "source": [
    "X.shape"
   ]
  },
  {
   "cell_type": "code",
   "execution_count": 29,
   "metadata": {},
   "outputs": [
    {
     "data": {
      "text/plain": [
       "dtype('uint8')"
      ]
     },
     "execution_count": 29,
     "metadata": {},
     "output_type": "execute_result"
    }
   ],
   "source": [
    "X.dtype"
   ]
  },
  {
   "cell_type": "code",
   "execution_count": 30,
   "metadata": {
    "scrolled": true
   },
   "outputs": [
    {
     "data": {
      "text/plain": [
       "array([  0,   0,   0,   0,   0,   0,   0,   0,   0,   0,   0,   0,   0,\n",
       "         0,   0,   0,   0,   0,   0,   0,   0,   0,   0,   0,   0,   0,\n",
       "         0,   0,   0,   0,   0,   0,   0,   0,   0,   0,   0,   0,   0,\n",
       "         0,   0,   0,  11,  21,  12,   0,   0,   0,   0,   0,   0,   0,\n",
       "         0,  92,  20,   0,   0,   0,   0,   0,   0,   0,   0,   0,   0,\n",
       "         0,   0,   0,  91, 213, 253, 255, 255, 222,  95,   3,   0,   0,\n",
       "         0,   0,   7, 255, 222,   0,   0,   0,   0,   0,   0,   0,   0,\n",
       "         0,   0,   0,  24, 190, 255, 196, 118, 100, 109, 196, 255, 121,\n",
       "         0,   0,   0,   0,   0, 141,  35,   0,   0,   0,   0,   0,   0,\n",
       "         0,   0,   0,   0,   1, 185, 241,  94,   1,   0,   0,   0,   0,\n",
       "        63,  25,   0,   0,   0,   0,   0,   0,   0,   0,   0,   0,   0,\n",
       "         0,   0,   0,   0,   0,   0,  89, 255, 115, 133, 150,  37,   0,\n",
       "         0,   0,   0,   0,   0,   0,   0,   0,   0,   0,   0,   0,   0,\n",
       "         0,   0,   0,   0,   0,   0,   0,   0, 207, 241, 252, 255, 250,\n",
       "       199,   0,   0,   0,   0,   0,   0,   0,   0,   0,   0,   0,   0,\n",
       "         0,   0,   0,   0,   0,   0,   0,   0,  30, 200, 255, 242, 149,\n",
       "       252, 232, 195,   3,   0,   0,   0,   0,   0,   0,   0,   0,   0,\n",
       "         0,   0,   0,   0,   0,   0,   0,   0,   0,  39, 225, 238, 255,\n",
       "        85,   0, 119, 255,  83,   0,   0,   0,   0,   0,   0,   0,   0,\n",
       "         0,   0,   0,   0,   0,   0,   0,   0,   0,   0,  43, 229, 231,\n",
       "       106, 255,  49,   0,   1, 201, 222,   7,   0,   0,   0,   0,   0,\n",
       "         0,   0,   0,   0,   0,   0,   0,   0,   0,   0,   0,  33, 237,\n",
       "       220,  33,  79, 255,  75,   0,   0,  61, 255,  94,   0,   0,   0,\n",
       "         0,   0,   0,   0,   0,   0,   0,   0,   0,   0,   0,   0,   4,\n",
       "       197, 235,  28,   0,   4, 210, 166,   0,   0,   1, 250, 127,   0,\n",
       "         0,   0,   0,   0,   0,   0,   0,   0,   0,   0,   0,   0,   0,\n",
       "         0, 128, 255,  85,   0,   0,   0,  17,  16,   0,   0,   0, 231,\n",
       "       146,   0,   0,   0,   0,   0,   0,   0,   0,   0,   0,   0,   0,\n",
       "         0,   0,  56, 251, 153,   0,   0,   0,   0,   0,   0,   0,   0,\n",
       "         0, 228, 148,   0,   0,   0,   0,   0,   0,   0,   0,   0,   0,\n",
       "         0,   0,   0,   0, 162, 229,  11,   0,   0,   0,   0,   0,   0,\n",
       "         0,   0,   0, 246, 131,   0,   0,   0,   0,   0,   0,   0,   0,\n",
       "         0,   0,   0,   0,   0,   0, 219, 165,   0,   0,   0,   0,   0,\n",
       "         0,   0,   0,   0,  13, 255, 111,   0,   0,   0,   0,   0,   0,\n",
       "         0,   0,   0,   0,   0,   0,   0,  21, 254, 109,   0,   0,   0,\n",
       "         0,   0,   0,   0,   0,   0,  78, 255,  58,   0,   0,   0,   0,\n",
       "         0,   0,   0,   0,   0,   0,   0,   0,   0,  78, 255,  51,   0,\n",
       "         0,   0,   0,   0,   0,   0,   0,   0, 152, 237,   3,   0,   0,\n",
       "         0,   0,   0,   0,   0,   0,   0,   0,   0,   0,   0, 120, 254,\n",
       "         5,   0,   0,   0,   0,   0,   0,   0,   0,   3, 228, 165,   0,\n",
       "         0,   0,   0,   0,   0,   0,   0,   0,   0,   0,   0,   0,   0,\n",
       "       123, 254,   0,   0,   0,   0,   0,   0,   0,   0,   0,  72, 255,\n",
       "        74,   0,   0,   0,   0,   0,   0,   0,   0,   0,   0,   0,   0,\n",
       "         0,   0, 114, 255,  13,   0,   0,   0,   0,   0,   0,   0,   0,\n",
       "       169, 229,   3,   0,   0,   0,   0,   0,   0,   0,   0,   0,   0,\n",
       "         0,   0,   0,   0,  60, 255,  70,   0,   0,   0,   0,   0,   0,\n",
       "         0,  53, 252, 129,   0,   0,   0,   0,   0,   0,   0,   0,   0,\n",
       "         0,   0,   0,   0,   0,   0,   7, 239, 174,   0,   0,   0,   0,\n",
       "         0,   0,   6, 208, 222,  11,   0,   0,   0,   0,   0,   0,   0,\n",
       "         0,   0,   0,   0,   0,   0,   0,   0,   0, 110, 255, 100,   0,\n",
       "         0,   0,   0,   3, 170, 253,  70,   0,   0,   0,   0,   0,   0,\n",
       "         0,   0,   0,   0,   0,   0,   0,   0,   0,   0,   0,   3, 180,\n",
       "       255, 178,  99,  68,  91, 200, 254, 104,   0,   0,   0,   0,   0,\n",
       "         0,   0,   0,   0,   0,   0,   0,   0,   0,   0,   0,   0,   0,\n",
       "         0,   2, 116, 222, 255, 255, 255, 213,  87,   0,   0,   0,   0,\n",
       "         0,   0,   0,   0,   0,   0,   0,   0,   0,   0,   0,   0,   0,\n",
       "         0,   0,   0,   0,   0,   0,  32,  51,  44,   1,   0,   0,   0,\n",
       "         0,   0,   0,   0,   0,   0,   0,   0,   0,   0,   0,   0,   0,\n",
       "         0,   0,   0,   0,   0,   0,   0,   0,   0,   0,   0,   0,   0,\n",
       "         0,   0,   0,   0,   0,   0,   0,   0,   0,   0,   0,   0,   0,\n",
       "         0,   0,   0,   0], dtype=uint8)"
      ]
     },
     "execution_count": 30,
     "metadata": {},
     "output_type": "execute_result"
    }
   ],
   "source": [
    "X[0]"
   ]
  },
  {
   "cell_type": "code",
   "execution_count": 31,
   "metadata": {},
   "outputs": [
    {
     "data": {
      "text/plain": [
       "(2000, 1, 32, 32)"
      ]
     },
     "execution_count": 31,
     "metadata": {},
     "output_type": "execute_result"
    }
   ],
   "source": [
    "X = X.reshape(-1, 1, 28, 28)\n",
    "X = X.astype('float32') / 255.\n",
    "X = np.pad(X, [(0, 0), (0, 0), (2, 2), (2, 2)], mode='constant')\n",
    "\n",
    "# (samples, channels, x, y)\n",
    "X.shape"
   ]
  },
  {
   "cell_type": "code",
   "execution_count": 32,
   "metadata": {},
   "outputs": [
    {
     "data": {
      "text/plain": [
       "dtype('int64')"
      ]
     },
     "execution_count": 32,
     "metadata": {},
     "output_type": "execute_result"
    }
   ],
   "source": [
    "# answer keys are integers\n",
    "Y.dtype"
   ]
  },
  {
   "cell_type": "markdown",
   "metadata": {},
   "source": [
    "### Let's have a look"
   ]
  },
  {
   "cell_type": "code",
   "execution_count": 33,
   "metadata": {
    "scrolled": true
   },
   "outputs": [],
   "source": [
    "def draw_examples(X, Y, classes, rows=6, scale=1):\n",
    "    fig, axs = plt.subplots(rows, len(classes), figsize=(scale * len(classes), scale * rows))\n",
    "    size = X.shape[-1]\n",
    "    for class_id in range(len(classes)):\n",
    "        X_class = X[Y == class_id]\n",
    "        for i in range(rows):\n",
    "            ax = axs[i, class_id]\n",
    "            x = X_class[np.random.randint(len(X_class))].reshape(size, size)\n",
    "            ax.imshow(x, cmap='Greys', interpolation='none')\n",
    "            ax.axis('off')"
   ]
  },
  {
   "cell_type": "code",
   "execution_count": 34,
   "metadata": {},
   "outputs": [
    {
     "data": {
      "image/png": "[encoded data removed]",
      "text/plain": [
       "<Figure size 576x864 with 24 Axes>"
      ]
     },
     "metadata": {
      "needs_background": "light"
     },
     "output_type": "display_data"
    }
   ],
   "source": [
    "draw_examples(X, Y, classes, rows=6, scale=2)"
   ]
  },
  {
   "cell_type": "markdown",
   "metadata": {},
   "source": [
    "## Train-test split"
   ]
  },
  {
   "cell_type": "code",
   "execution_count": 35,
   "metadata": {},
   "outputs": [],
   "source": [
    "X_train, X_test, Y_train, Y_test = train_test_split(X, Y, test_size=0.25, random_state=42)"
   ]
  },
  {
   "cell_type": "markdown",
   "metadata": {},
   "source": [
    "## Datasets and data loaders\n",
    "\n",
    "We need to create data loaders to load and preprocess data. We use split:\n",
    "* train - for training,\n",
    "* validation - not used for training, but to evaluate model performance."
   ]
  },
  {
   "cell_type": "code",
   "execution_count": 36,
   "metadata": {},
   "outputs": [],
   "source": [
    "# define data loaders\n",
    "dataloaders = {\n",
    "    'train':\n",
    "    data.DataLoader(\n",
    "        data.TensorDataset(torch.from_numpy(X_train), torch.from_numpy(Y_train).long()),\n",
    "        batch_size=64,\n",
    "        shuffle=True, num_workers=4\n",
    "    ),\n",
    "    'validation': \n",
    "    data.DataLoader(\n",
    "        data.TensorDataset(torch.from_numpy(X_test), torch.from_numpy(Y_test).long()),\n",
    "        batch_size=64,\n",
    "        shuffle=False, num_workers=4\n",
    "    )\n",
    "}"
   ]
  },
  {
   "cell_type": "markdown",
   "metadata": {},
   "source": [
    "## Before we start\n",
    "\n",
    "While training a model, it is important to set `train` or `eval` mode of the model, as some layers have different behavior during train and evaluation.\n",
    "\n",
    "See also: [Keras vs. PyTorch: Alien vs. Predator recognition with transfer learning](https://deepsense.ai/keras-vs-pytorch-avp-transfer-learning) which explains API differences between these frameworks."
   ]
  },
  {
   "cell_type": "code",
   "execution_count": 37,
   "metadata": {},
   "outputs": [
    {
     "data": {
      "text/plain": [
       "2.0"
      ]
     },
     "execution_count": 37,
     "metadata": {},
     "output_type": "execute_result"
    }
   ],
   "source": [
    "1 + 1."
   ]
  },
  {
   "cell_type": "code",
   "execution_count": 38,
   "metadata": {},
   "outputs": [
    {
     "ename": "RuntimeError",
     "evalue": "expected type torch.FloatTensor but got torch.LongTensor",
     "output_type": "error",
     "traceback": [
      "\u001b[0;31m---------------------------------------------------------------------------\u001b[0m",
      "\u001b[0;31mRuntimeError\u001b[0m                              Traceback (most recent call last)",
      "\u001b[0;32m<ipython-input-38-9b48597e3aff>\u001b[0m in \u001b[0;36m<module>\u001b[0;34m()\u001b[0m\n\u001b[0;32m----> 1\u001b[0;31m \u001b[0mtorch\u001b[0m\u001b[0;34m.\u001b[0m\u001b[0mtensor\u001b[0m\u001b[0;34m(\u001b[0m\u001b[0;34m[\u001b[0m\u001b[0;36m1.\u001b[0m\u001b[0;34m,\u001b[0m \u001b[0;36m2.\u001b[0m\u001b[0;34m]\u001b[0m\u001b[0;34m)\u001b[0m \u001b[0;34m+\u001b[0m \u001b[0mtorch\u001b[0m\u001b[0;34m.\u001b[0m\u001b[0mtensor\u001b[0m\u001b[0;34m(\u001b[0m\u001b[0;34m[\u001b[0m\u001b[0;36m1\u001b[0m\u001b[0;34m,\u001b[0m \u001b[0;36m2\u001b[0m\u001b[0;34m]\u001b[0m\u001b[0;34m)\u001b[0m\u001b[0;34m\u001b[0m\u001b[0m\n\u001b[0m",
      "\u001b[0;31mRuntimeError\u001b[0m: expected type torch.FloatTensor but got torch.LongTensor"
     ]
    }
   ],
   "source": [
    "torch.tensor([1., 2.]) + torch.tensor([1, 2])"
   ]
  },
  {
   "cell_type": "code",
   "execution_count": 39,
   "metadata": {},
   "outputs": [],
   "source": [
    "device = torch.device('cuda:0' if torch.cuda.is_available() else 'cpu')\n",
    "\n",
    "def train_model(model, criterion, optimizer, num_epochs=10):\n",
    "    liveloss = PlotLosses()\n",
    "    model = model.to(device)\n",
    "    \n",
    "    for epoch in range(num_epochs):\n",
    "        logs = {}\n",
    "        for phase in ['train', 'validation']:\n",
    "            if phase == 'train':\n",
    "                model.train()\n",
    "            else:\n",
    "                model.eval()\n",
    "\n",
    "            running_loss = 0.0\n",
    "            running_corrects = 0\n",
    "\n",
    "            for inputs, labels in dataloaders[phase]:\n",
    "                inputs = inputs.to(device)\n",
    "                labels = labels.to(device)\n",
    "\n",
    "                outputs = model(inputs)\n",
    "                loss = criterion(outputs, labels)\n",
    "\n",
    "                if phase == 'train':\n",
    "                    optimizer.zero_grad()\n",
    "                    loss.backward()\n",
    "                    optimizer.step()\n",
    "\n",
    "                _, preds = torch.max(outputs, 1)\n",
    "                running_loss += loss.item() * inputs.size(0)\n",
    "                running_corrects += (preds == labels.data).sum().item()\n",
    "\n",
    "            epoch_loss = running_loss / len(dataloaders[phase].dataset)\n",
    "            epoch_acc = running_corrects / len(dataloaders[phase].dataset)\n",
    "            \n",
    "            prefix = ''\n",
    "            if phase == 'validation':\n",
    "                prefix = 'val_'\n",
    "\n",
    "            logs[prefix + 'log loss'] = epoch_loss\n",
    "            logs[prefix + 'accuracy'] = epoch_acc\n",
    "        \n",
    "        liveloss.update(logs)\n",
    "        liveloss.draw()\n",
    "    return model"
   ]
  },
  {
   "cell_type": "code",
   "execution_count": 40,
   "metadata": {},
   "outputs": [
    {
     "data": {
      "text/plain": [
       "device(type='cpu')"
      ]
     },
     "execution_count": 40,
     "metadata": {},
     "output_type": "execute_result"
    }
   ],
   "source": [
    "device"
   ]
  },
  {
   "cell_type": "markdown",
   "metadata": {},
   "source": [
    "## Convolutional neural network\n",
    "\n",
    "Treating an image as a flat vector looses its spatial structure. Instead we can use the spacial structure in our advantage and perform convolutions.\n",
    "Convolution is an operation which performs the same local operation on each part of the image.\n",
    "\n",
    "![](https://github.com/vdumoulin/conv_arithmetic/blob/master/gif/same_padding_no_strides.gif?raw=true)\n",
    "\n",
    "Each convolution layer produces new channels based on those which preceded it. First, we start with 3 channels for red, green and blue (RGB) components. Next, channels get more and more abstract.\n",
    "\n",
    "While producing new channels with representations of various properties of the image, we also reduce the resolution, usually using pooling layers.\n",
    "\n",
    "See also:\n",
    "* [Image Kernels - visually explained](http://setosa.io/ev/image-kernels/)\n",
    "* [How neural networks build up their understanding of images](https://distill.pub/2017/feature-visualization/)\n",
    "* source of above image: [Convolution arithmetic](https://github.com/vdumoulin/conv_arithmetic)\n",
    "* [Convolutional Neural Networks by Andrej Karpathy](http://cs231n.github.io/convolutional-networks/) for in-depth explanation of convolutions and other accompanying blocks"
   ]
  },
  {
   "cell_type": "code",
   "execution_count": 41,
   "metadata": {},
   "outputs": [],
   "source": [
    "# antipattern in PyTorch, don't do it!\n",
    "class Flatten(nn.Module):\n",
    "    def forward(self, x):\n",
    "        return x.view(x.size(0), -1)"
   ]
  },
  {
   "cell_type": "code",
   "execution_count": 42,
   "metadata": {},
   "outputs": [],
   "source": [
    "class ConvNet(nn.Module):\n",
    "    def __init__(self):\n",
    "        super().__init__()\n",
    "        self.conv1 = self._conv_block(1, 16)  #  16x16\n",
    "        self.conv2 = self._conv_block(16, 32) #  8x8\n",
    "        self.conv3 = self._conv_block(32, 64) #  4x4\n",
    "        \n",
    "        self.fc = nn.Sequential(\n",
    "            Flatten(),\n",
    "            nn.Linear(64 * 4 * 4, 128),\n",
    "            nn.ReLU(inplace=True),\n",
    "            nn.Dropout(0.5),\n",
    "            nn.Linear(128, len(classes))\n",
    "        )\n",
    "    \n",
    "    def _conv_block(self, in_channels, out_channels):\n",
    "        return nn.Sequential(\n",
    "            nn.Conv2d(in_channels, out_channels, kernel_size=3, padding=1),\n",
    "            nn.ReLU(inplace=True),\n",
    "            nn.MaxPool2d(2, 2)\n",
    "        )\n",
    "    \n",
    "    def forward(self, x):\n",
    "        x = self.conv1(x)\n",
    "        x = self.conv2(x)\n",
    "        x = self.conv3(x)\n",
    "        x = self.fc(x)\n",
    "        return x"
   ]
  },
  {
   "cell_type": "code",
   "execution_count": 55,
   "metadata": {},
   "outputs": [],
   "source": [
    "z = nn.Sequential()"
   ]
  },
  {
   "cell_type": "code",
   "execution_count": 56,
   "metadata": {},
   "outputs": [
    {
     "data": {
      "text/plain": [
       "tensor([ 1.8383, -0.1459,  1.6464, -0.9331,  0.2334])"
      ]
     },
     "execution_count": 56,
     "metadata": {},
     "output_type": "execute_result"
    }
   ],
   "source": [
    "z(torch.randn(5))"
   ]
  },
  {
   "cell_type": "code",
   "execution_count": 57,
   "metadata": {},
   "outputs": [],
   "source": [
    "def make_identity_connector():\n",
    "\n",
    "    return nn.Sequential()"
   ]
  },
  {
   "cell_type": "code",
   "execution_count": 43,
   "metadata": {},
   "outputs": [],
   "source": [
    "def make_connector(in_channels, out_channels, intermediate_channels=None):\n",
    "    if not intermediate_channels:\n",
    "        intermediate_channels = in_channels\n",
    "    \n",
    "    return nn.Sequential(\n",
    "        nn.Conv2d(in_channels, intermediate_channels, kernel_size=1, padding=0),\n",
    "        nn.ReLU(inplace=True),\n",
    "        nn.Conv2d(intermediate_channels, out_channels, kernel_size=1, padding=0),\n",
    "        nn.ReLU(inplace=True)\n",
    "    )"
   ]
  },
  {
   "cell_type": "code",
   "execution_count": 59,
   "metadata": {},
   "outputs": [],
   "source": [
    "class SewnConvNet(nn.Module):\n",
    "    def __init__(self, net_before, net_after, connector, check=True):\n",
    "        super().__init__()\n",
    "        self.net_before = net_before.eval()\n",
    "        self.net_after = net_after.eval()\n",
    "        self.connector = connector\n",
    "        \n",
    "        if check:\n",
    "            self._assert_channels()\n",
    "    \n",
    "    def forward(self, x):\n",
    "        x = self.net_before(x)\n",
    "        x = self.connector(x)\n",
    "        x = self.net_after(x)\n",
    "        return x\n",
    "    \n",
    "    def _assert_channels(self):\n",
    "        '''\n",
    "        net_before, net_after, connector - nn.Sequential or nn.ModuleList\n",
    "        '''\n",
    "        before_out_channels = self._find_out_channels(self.net_before)\n",
    "        connector_in_channels = self._find_in_channels(self.connector)\n",
    "        if before_out_channels != connector_in_channels:\n",
    "            raise ValueError('Connector has {} input channels, expected {}.'.format(\n",
    "                connector_in_channels, before_out_channels)\n",
    "            )\n",
    "        \n",
    "        connector_out_channels = self._find_out_channels(self.connector)\n",
    "        after_in_channels = self._find_in_channels(self.net_after)\n",
    "        if after_in_channels != connector_out_channels:\n",
    "            raise ValueError('Connector has {} output channels, expected {}.'.format(\n",
    "                connector_out_channels, after_in_channels)\n",
    "            )\n",
    "    \n",
    "    def parameters(self, recurse=True):\n",
    "        return self.connector.parameters()\n",
    "    \n",
    "    def train(self, mode=True):\n",
    "        self.training = mode\n",
    "        self.connector.train(mode)\n",
    "        return self\n",
    "    \n",
    "    def eval(self):\n",
    "        return self.train(False)\n",
    "    \n",
    "    def _find_in_channels(self, half):\n",
    "        for m in half.modules():\n",
    "            if isinstance(m, nn.Conv2d):\n",
    "                return m.in_channels\n",
    "            if isinstance(m, nn.Linear):\n",
    "                return m.in_features\n",
    "    \n",
    "    def _find_out_channels(self, half):\n",
    "        out_channels = None\n",
    "        for m in half.modules():\n",
    "            if isinstance(m, nn.Conv2d):\n",
    "                out_channels = m.out_channels\n",
    "            if isinstance(m, nn.Linear):\n",
    "                out_channels = m.out_features\n",
    "        return out_channels"
   ]
  },
  {
   "cell_type": "code",
   "execution_count": 45,
   "metadata": {},
   "outputs": [],
   "source": [
    "model1 = ConvNet()\n",
    "criterion = nn.CrossEntropyLoss()\n",
    "optimizer1 = optim.Adam(model1.parameters(), lr=1e-4)"
   ]
  },
  {
   "cell_type": "code",
   "execution_count": 46,
   "metadata": {},
   "outputs": [
    {
     "data": {
      "image/png": "[encoded data removed]",
      "text/plain": [
       "<Figure size 864x576 with 2 Axes>"
      ]
     },
     "metadata": {
      "needs_background": "light"
     },
     "output_type": "display_data"
    },
    {
     "name": "stdout",
     "output_type": "stream",
     "text": [
      "accuracy:\n",
      "training   (min:    0.341, max:    0.825, cur:    0.821)\n",
      "validation (min:    0.424, max:    0.838, cur:    0.834)\n",
      "\n",
      "log loss:\n",
      "training   (min:    0.490, max:    1.381, cur:    0.490)\n",
      "validation (min:    0.465, max:    1.373, cur:    0.465)\n"
     ]
    }
   ],
   "source": [
    "model1_trained = train_model(model1, criterion, optimizer1, num_epochs=20)"
   ]
  },
  {
   "cell_type": "code",
   "execution_count": 66,
   "metadata": {},
   "outputs": [
    {
     "data": {
      "image/svg+xml": [
       "<?xml version=\"1.0\" encoding=\"UTF-8\" standalone=\"no\"?>\n",
       "<!DOCTYPE svg PUBLIC \"-//W3C//DTD SVG 1.1//EN\"\n",
       " \"http://www.w3.org/Graphics/SVG/1.1/DTD/svg11.dtd\">\n",
       "<!-- Generated by graphviz version 2.38.0 (20140413.2041)\n",
       " -->\n",
       "<!-- Title: %3 Pages: 1 -->\n",
       "<svg width=\"349pt\" height=\"1147pt\"\n",
       " viewBox=\"0.00 0.00 348.50 1147.00\" xmlns=\"http://www.w3.org/2000/svg\" xmlns:xlink=\"http://www.w3.org/1999/xlink\">\n",
       "<g id=\"graph0\" class=\"graph\" transform=\"scale(1 1) rotate(0) translate(72 1111)\">\n",
       "<title>%3</title>\n",
       "<polygon fill=\"#ffffff\" stroke=\"none\" points=\"-72,36 -72,-1111 276.5,-1111 276.5,36 -72,36\"/>\n",
       "<!-- 4736788108049357152 -->\n",
       "<g id=\"node1\" class=\"node\"><title>4736788108049357152</title>\n",
       "<polygon fill=\"#e8e8e8\" stroke=\"#000000\" points=\"179,-200 108,-200 108,-164 179,-164 179,-200\"/>\n",
       "<text text-anchor=\"start\" x=\"116.19\" y=\"-179\" font-family=\"Times\" font-size=\"10.00\" fill=\"#000000\">Linear &gt; Relu</text>\n",
       "</g>\n",
       "<!-- ConvNet/Sequential[fc]/Dropout[3]/outputs/30/31 -->\n",
       "<g id=\"node17\" class=\"node\"><title>ConvNet/Sequential[fc]/Dropout[3]/outputs/30/31</title>\n",
       "<polygon fill=\"#e8e8e8\" stroke=\"#000000\" points=\"170.5,-118 116.5,-118 116.5,-82 170.5,-82 170.5,-118\"/>\n",
       "<text text-anchor=\"start\" x=\"127.335\" y=\"-97\" font-family=\"Times\" font-size=\"10.00\" fill=\"#000000\">Dropout</text>\n",
       "</g>\n",
       "<!-- 4736788108049357152&#45;&gt;ConvNet/Sequential[fc]/Dropout[3]/outputs/30/31 -->\n",
       "<g id=\"edge17\" class=\"edge\"><title>4736788108049357152&#45;&gt;ConvNet/Sequential[fc]/Dropout[3]/outputs/30/31</title>\n",
       "<path fill=\"none\" stroke=\"#000000\" d=\"M143.5,-163.641C143.5,-153.297 143.5,-139.941 143.5,-128.221\"/>\n",
       "<polygon fill=\"#000000\" stroke=\"#000000\" points=\"147,-128.05 143.5,-118.05 140,-128.05 147,-128.05\"/>\n",
       "<text text-anchor=\"middle\" x=\"156\" y=\"-138\" font-family=\"Times\" font-size=\"10.00\" fill=\"#000000\">1x128</text>\n",
       "</g>\n",
       "<!-- 9811703410876672955 -->\n",
       "<g id=\"node2\" class=\"node\"><title>9811703410876672955</title>\n",
       "<polygon fill=\"#e8e8e8\" stroke=\"#000000\" points=\"177.5,-911 95.5,-911 95.5,-875 177.5,-875 177.5,-911\"/>\n",
       "<text text-anchor=\"start\" x=\"103.402\" y=\"-890\" font-family=\"Times\" font-size=\"10.00\" fill=\"#000000\">Conv3x3 &gt; Relu</text>\n",
       "</g>\n",
       "<!-- ConvNet/Sequential[conv2]/MaxPool2d[2]/outputs/16 -->\n",
       "<g id=\"node5\" class=\"node\"><title>ConvNet/Sequential[conv2]/MaxPool2d[2]/outputs/16</title>\n",
       "<polygon fill=\"#e8e8e8\" stroke=\"#000000\" points=\"170,-829 103,-829 103,-793 170,-793 170,-829\"/>\n",
       "<text text-anchor=\"start\" x=\"111.165\" y=\"-808\" font-family=\"Times\" font-size=\"10.00\" fill=\"#000000\">MaxPool2x2</text>\n",
       "</g>\n",
       "<!-- 9811703410876672955&#45;&gt;ConvNet/Sequential[conv2]/MaxPool2d[2]/outputs/16 -->\n",
       "<g id=\"edge13\" class=\"edge\"><title>9811703410876672955&#45;&gt;ConvNet/Sequential[conv2]/MaxPool2d[2]/outputs/16</title>\n",
       "<path fill=\"none\" stroke=\"#000000\" d=\"M136.5,-874.641C136.5,-864.297 136.5,-850.941 136.5,-839.221\"/>\n",
       "<polygon fill=\"#000000\" stroke=\"#000000\" points=\"140,-839.05 136.5,-829.05 133,-839.05 140,-839.05\"/>\n",
       "<text text-anchor=\"middle\" x=\"161.5\" y=\"-849\" font-family=\"Times\" font-size=\"10.00\" fill=\"#000000\">1x32x16x16</text>\n",
       "</g>\n",
       "<!-- 4966830176241781604 -->\n",
       "<g id=\"node3\" class=\"node\"><title>4966830176241781604</title>\n",
       "<polygon fill=\"#e8e8e8\" stroke=\"#000000\" points=\"177.5,-1075 95.5,-1075 95.5,-1039 177.5,-1039 177.5,-1075\"/>\n",
       "<text text-anchor=\"start\" x=\"103.402\" y=\"-1054\" font-family=\"Times\" font-size=\"10.00\" fill=\"#000000\">Conv3x3 &gt; Relu</text>\n",
       "</g>\n",
       "<!-- ConvNet/Sequential[conv1]/MaxPool2d[2]/outputs/13 -->\n",
       "<g id=\"node10\" class=\"node\"><title>ConvNet/Sequential[conv1]/MaxPool2d[2]/outputs/13</title>\n",
       "<polygon fill=\"#e8e8e8\" stroke=\"#000000\" points=\"170,-993 103,-993 103,-957 170,-957 170,-993\"/>\n",
       "<text text-anchor=\"start\" x=\"111.165\" y=\"-972\" font-family=\"Times\" font-size=\"10.00\" fill=\"#000000\">MaxPool2x2</text>\n",
       "</g>\n",
       "<!-- 4966830176241781604&#45;&gt;ConvNet/Sequential[conv1]/MaxPool2d[2]/outputs/13 -->\n",
       "<g id=\"edge11\" class=\"edge\"><title>4966830176241781604&#45;&gt;ConvNet/Sequential[conv1]/MaxPool2d[2]/outputs/13</title>\n",
       "<path fill=\"none\" stroke=\"#000000\" d=\"M136.5,-1038.64C136.5,-1028.3 136.5,-1014.94 136.5,-1003.22\"/>\n",
       "<polygon fill=\"#000000\" stroke=\"#000000\" points=\"140,-1003.05 136.5,-993.05 133,-1003.05 140,-1003.05\"/>\n",
       "<text text-anchor=\"middle\" x=\"161.5\" y=\"-1013\" font-family=\"Times\" font-size=\"10.00\" fill=\"#000000\">1x16x32x32</text>\n",
       "</g>\n",
       "<!-- /outputs/24 -->\n",
       "<g id=\"node4\" class=\"node\"><title>/outputs/24</title>\n",
       "<polygon fill=\"#e8e8e8\" stroke=\"#000000\" points=\"136,-428 77,-428 77,-392 136,-392 136,-428\"/>\n",
       "<text text-anchor=\"start\" x=\"85.0664\" y=\"-407\" font-family=\"Times\" font-size=\"10.00\" fill=\"#000000\">Unsqueeze</text>\n",
       "</g>\n",
       "<!-- /outputs/26 -->\n",
       "<g id=\"node14\" class=\"node\"><title>/outputs/26</title>\n",
       "<polygon fill=\"#e8e8e8\" stroke=\"#000000\" points=\"133.5,-355 79.5,-355 79.5,-319 133.5,-319 133.5,-355\"/>\n",
       "<text text-anchor=\"start\" x=\"92.3374\" y=\"-334\" font-family=\"Times\" font-size=\"10.00\" fill=\"#000000\">Concat</text>\n",
       "</g>\n",
       "<!-- /outputs/24&#45;&gt;/outputs/26 -->\n",
       "<g id=\"edge7\" class=\"edge\"><title>/outputs/24&#45;&gt;/outputs/26</title>\n",
       "<path fill=\"none\" stroke=\"#000000\" d=\"M106.5,-391.813C106.5,-383.789 106.5,-374.047 106.5,-365.069\"/>\n",
       "<polygon fill=\"#000000\" stroke=\"#000000\" points=\"110,-365.029 106.5,-355.029 103,-365.029 110,-365.029\"/>\n",
       "</g>\n",
       "<!-- 12859003090556534001 -->\n",
       "<g id=\"node11\" class=\"node\"><title>12859003090556534001</title>\n",
       "<polygon fill=\"#e8e8e8\" stroke=\"#000000\" points=\"177.5,-747 95.5,-747 95.5,-711 177.5,-711 177.5,-747\"/>\n",
       "<text text-anchor=\"start\" x=\"103.402\" y=\"-726\" font-family=\"Times\" font-size=\"10.00\" fill=\"#000000\">Conv3x3 &gt; Relu</text>\n",
       "</g>\n",
       "<!-- ConvNet/Sequential[conv2]/MaxPool2d[2]/outputs/16&#45;&gt;12859003090556534001 -->\n",
       "<g id=\"edge14\" class=\"edge\"><title>ConvNet/Sequential[conv2]/MaxPool2d[2]/outputs/16&#45;&gt;12859003090556534001</title>\n",
       "<path fill=\"none\" stroke=\"#000000\" d=\"M136.5,-792.641C136.5,-782.297 136.5,-768.941 136.5,-757.221\"/>\n",
       "<polygon fill=\"#000000\" stroke=\"#000000\" points=\"140,-757.05 136.5,-747.05 133,-757.05 140,-757.05\"/>\n",
       "<text text-anchor=\"middle\" x=\"156.5\" y=\"-767\" font-family=\"Times\" font-size=\"10.00\" fill=\"#000000\">1x32x8x8</text>\n",
       "</g>\n",
       "<!-- ConvNet/Sequential[fc]/Flatten[0]/outputs/22 -->\n",
       "<g id=\"node6\" class=\"node\"><title>ConvNet/Sequential[fc]/Flatten[0]/outputs/22</title>\n",
       "<polygon fill=\"#e8e8e8\" stroke=\"#000000\" points=\"133.5,-510 79.5,-510 79.5,-474 133.5,-474 133.5,-510\"/>\n",
       "<text text-anchor=\"start\" x=\"93.3965\" y=\"-489\" font-family=\"Times\" font-size=\"10.00\" fill=\"#000000\">Gather</text>\n",
       "</g>\n",
       "<!-- ConvNet/Sequential[fc]/Flatten[0]/outputs/22&#45;&gt;/outputs/24 -->\n",
       "<g id=\"edge5\" class=\"edge\"><title>ConvNet/Sequential[fc]/Flatten[0]/outputs/22&#45;&gt;/outputs/24</title>\n",
       "<path fill=\"none\" stroke=\"#000000\" d=\"M106.5,-473.641C106.5,-463.297 106.5,-449.941 106.5,-438.221\"/>\n",
       "<polygon fill=\"#000000\" stroke=\"#000000\" points=\"110,-438.05 106.5,-428.05 103,-438.05 110,-438.05\"/>\n",
       "</g>\n",
       "<!-- ConvNet/Sequential[conv3]/MaxPool2d[2]/outputs/19 -->\n",
       "<g id=\"node7\" class=\"node\"><title>ConvNet/Sequential[conv3]/MaxPool2d[2]/outputs/19</title>\n",
       "<polygon fill=\"#e8e8e8\" stroke=\"#000000\" points=\"170,-665 103,-665 103,-629 170,-629 170,-665\"/>\n",
       "<text text-anchor=\"start\" x=\"111.165\" y=\"-644\" font-family=\"Times\" font-size=\"10.00\" fill=\"#000000\">MaxPool2x2</text>\n",
       "</g>\n",
       "<!-- ConvNet/Sequential[fc]/Flatten[0]/outputs/21 -->\n",
       "<g id=\"node8\" class=\"node\"><title>ConvNet/Sequential[fc]/Flatten[0]/outputs/21</title>\n",
       "<polygon fill=\"#e8e8e8\" stroke=\"#000000\" points=\"136.5,-583 82.5,-583 82.5,-547 136.5,-547 136.5,-583\"/>\n",
       "<text text-anchor=\"start\" x=\"97.2808\" y=\"-562\" font-family=\"Times\" font-size=\"10.00\" fill=\"#000000\">Shape</text>\n",
       "</g>\n",
       "<!-- ConvNet/Sequential[conv3]/MaxPool2d[2]/outputs/19&#45;&gt;ConvNet/Sequential[fc]/Flatten[0]/outputs/21 -->\n",
       "<g id=\"edge1\" class=\"edge\"><title>ConvNet/Sequential[conv3]/MaxPool2d[2]/outputs/19&#45;&gt;ConvNet/Sequential[fc]/Flatten[0]/outputs/21</title>\n",
       "<path fill=\"none\" stroke=\"#000000\" d=\"M120.398,-628.704C116.41,-623.405 112.662,-617.301 110.5,-611 108.598,-605.456 107.724,-599.299 107.44,-593.362\"/>\n",
       "<polygon fill=\"#000000\" stroke=\"#000000\" points=\"110.941,-593.107 107.47,-583.097 103.941,-593.087 110.941,-593.107\"/>\n",
       "<text text-anchor=\"middle\" x=\"130.5\" y=\"-603\" font-family=\"Times\" font-size=\"10.00\" fill=\"#000000\">1x64x4x4</text>\n",
       "</g>\n",
       "<!-- ConvNet/Sequential[fc]/Flatten[0]/outputs/27 -->\n",
       "<g id=\"node12\" class=\"node\"><title>ConvNet/Sequential[fc]/Flatten[0]/outputs/27</title>\n",
       "<polygon fill=\"#e8e8e8\" stroke=\"#000000\" points=\"170.5,-282 116.5,-282 116.5,-246 170.5,-246 170.5,-282\"/>\n",
       "<text text-anchor=\"start\" x=\"127.062\" y=\"-261\" font-family=\"Times\" font-size=\"10.00\" fill=\"#000000\">Reshape</text>\n",
       "</g>\n",
       "<!-- ConvNet/Sequential[conv3]/MaxPool2d[2]/outputs/19&#45;&gt;ConvNet/Sequential[fc]/Flatten[0]/outputs/27 -->\n",
       "<g id=\"edge2\" class=\"edge\"><title>ConvNet/Sequential[conv3]/MaxPool2d[2]/outputs/19&#45;&gt;ConvNet/Sequential[fc]/Flatten[0]/outputs/27</title>\n",
       "<path fill=\"none\" stroke=\"#000000\" d=\"M146.293,-628.812C154.367,-613.008 164.5,-588.661 164.5,-566 164.5,-566 164.5,-566 164.5,-336 164.5,-320.84 160.043,-304.579 155.236,-291.45\"/>\n",
       "<polygon fill=\"#000000\" stroke=\"#000000\" points=\"158.473,-290.118 151.559,-282.09 151.957,-292.677 158.473,-290.118\"/>\n",
       "<text text-anchor=\"middle\" x=\"184.5\" y=\"-448\" font-family=\"Times\" font-size=\"10.00\" fill=\"#000000\">1x64x4x4</text>\n",
       "</g>\n",
       "<!-- ConvNet/Sequential[fc]/Flatten[0]/outputs/21&#45;&gt;ConvNet/Sequential[fc]/Flatten[0]/outputs/22 -->\n",
       "<g id=\"edge4\" class=\"edge\"><title>ConvNet/Sequential[fc]/Flatten[0]/outputs/21&#45;&gt;ConvNet/Sequential[fc]/Flatten[0]/outputs/22</title>\n",
       "<path fill=\"none\" stroke=\"#000000\" d=\"M108.774,-546.813C108.435,-538.789 108.023,-529.047 107.644,-520.069\"/>\n",
       "<polygon fill=\"#000000\" stroke=\"#000000\" points=\"111.139,-519.872 107.22,-510.029 104.145,-520.168 111.139,-519.872\"/>\n",
       "</g>\n",
       "<!-- ConvNet/Sequential[fc]/Dropout[3]/outputs/32 -->\n",
       "<g id=\"node9\" class=\"node\"><title>ConvNet/Sequential[fc]/Dropout[3]/outputs/32</title>\n",
       "<polygon fill=\"#e8e8e8\" stroke=\"#000000\" points=\"170.5,-36 116.5,-36 116.5,-0 170.5,-0 170.5,-36\"/>\n",
       "<text text-anchor=\"start\" x=\"130.453\" y=\"-15\" font-family=\"Times\" font-size=\"10.00\" fill=\"#000000\">Linear</text>\n",
       "</g>\n",
       "<!-- ConvNet/Sequential[conv1]/MaxPool2d[2]/outputs/13&#45;&gt;9811703410876672955 -->\n",
       "<g id=\"edge12\" class=\"edge\"><title>ConvNet/Sequential[conv1]/MaxPool2d[2]/outputs/13&#45;&gt;9811703410876672955</title>\n",
       "<path fill=\"none\" stroke=\"#000000\" d=\"M136.5,-956.641C136.5,-946.297 136.5,-932.941 136.5,-921.221\"/>\n",
       "<polygon fill=\"#000000\" stroke=\"#000000\" points=\"140,-921.05 136.5,-911.05 133,-921.05 140,-921.05\"/>\n",
       "<text text-anchor=\"middle\" x=\"161.5\" y=\"-931\" font-family=\"Times\" font-size=\"10.00\" fill=\"#000000\">1x16x16x16</text>\n",
       "</g>\n",
       "<!-- 12859003090556534001&#45;&gt;ConvNet/Sequential[conv3]/MaxPool2d[2]/outputs/19 -->\n",
       "<g id=\"edge15\" class=\"edge\"><title>12859003090556534001&#45;&gt;ConvNet/Sequential[conv3]/MaxPool2d[2]/outputs/19</title>\n",
       "<path fill=\"none\" stroke=\"#000000\" d=\"M136.5,-710.641C136.5,-700.297 136.5,-686.941 136.5,-675.221\"/>\n",
       "<polygon fill=\"#000000\" stroke=\"#000000\" points=\"140,-675.05 136.5,-665.05 133,-675.05 140,-675.05\"/>\n",
       "<text text-anchor=\"middle\" x=\"156.5\" y=\"-685\" font-family=\"Times\" font-size=\"10.00\" fill=\"#000000\">1x64x8x8</text>\n",
       "</g>\n",
       "<!-- ConvNet/Sequential[fc]/Flatten[0]/outputs/27&#45;&gt;4736788108049357152 -->\n",
       "<g id=\"edge16\" class=\"edge\"><title>ConvNet/Sequential[fc]/Flatten[0]/outputs/27&#45;&gt;4736788108049357152</title>\n",
       "<path fill=\"none\" stroke=\"#000000\" d=\"M143.5,-245.641C143.5,-235.297 143.5,-221.941 143.5,-210.221\"/>\n",
       "<polygon fill=\"#000000\" stroke=\"#000000\" points=\"147,-210.05 143.5,-200.05 140,-210.05 147,-210.05\"/>\n",
       "<text text-anchor=\"middle\" x=\"158.5\" y=\"-220\" font-family=\"Times\" font-size=\"10.00\" fill=\"#000000\">1x1024</text>\n",
       "</g>\n",
       "<!-- ConvNet/Sequential[fc]/Flatten[0]/outputs/23 -->\n",
       "<g id=\"node13\" class=\"node\"><title>ConvNet/Sequential[fc]/Flatten[0]/outputs/23</title>\n",
       "<polygon fill=\"#e8e8e8\" stroke=\"#000000\" points=\"56.5,-510 2.5,-510 2.5,-474 56.5,-474 56.5,-510\"/>\n",
       "<text text-anchor=\"start\" x=\"12.2217\" y=\"-489\" font-family=\"Times\" font-size=\"10.00\" fill=\"#000000\">Constant</text>\n",
       "</g>\n",
       "<!-- /outputs/25 -->\n",
       "<g id=\"node15\" class=\"node\"><title>/outputs/25</title>\n",
       "<polygon fill=\"#e8e8e8\" stroke=\"#000000\" points=\"59,-428 0,-428 0,-392 59,-392 59,-428\"/>\n",
       "<text text-anchor=\"start\" x=\"8.06641\" y=\"-407\" font-family=\"Times\" font-size=\"10.00\" fill=\"#000000\">Unsqueeze</text>\n",
       "</g>\n",
       "<!-- ConvNet/Sequential[fc]/Flatten[0]/outputs/23&#45;&gt;/outputs/25 -->\n",
       "<g id=\"edge6\" class=\"edge\"><title>ConvNet/Sequential[fc]/Flatten[0]/outputs/23&#45;&gt;/outputs/25</title>\n",
       "<path fill=\"none\" stroke=\"#000000\" d=\"M29.5,-473.641C29.5,-463.297 29.5,-449.941 29.5,-438.221\"/>\n",
       "<polygon fill=\"#000000\" stroke=\"#000000\" points=\"33.0001,-438.05 29.5,-428.05 26.0001,-438.05 33.0001,-438.05\"/>\n",
       "</g>\n",
       "<!-- /outputs/26&#45;&gt;ConvNet/Sequential[fc]/Flatten[0]/outputs/27 -->\n",
       "<g id=\"edge9\" class=\"edge\"><title>/outputs/26&#45;&gt;ConvNet/Sequential[fc]/Flatten[0]/outputs/27</title>\n",
       "<path fill=\"none\" stroke=\"#000000\" d=\"M115.457,-318.813C119.82,-310.441 125.158,-300.197 130.001,-290.903\"/>\n",
       "<polygon fill=\"#000000\" stroke=\"#000000\" points=\"133.108,-292.514 134.626,-282.029 126.901,-289.279 133.108,-292.514\"/>\n",
       "</g>\n",
       "<!-- /outputs/25&#45;&gt;/outputs/26 -->\n",
       "<g id=\"edge8\" class=\"edge\"><title>/outputs/25&#45;&gt;/outputs/26</title>\n",
       "<path fill=\"none\" stroke=\"#000000\" d=\"M48.1396,-391.813C57.8814,-382.83 69.9594,-371.693 80.5959,-361.886\"/>\n",
       "<polygon fill=\"#000000\" stroke=\"#000000\" points=\"83.053,-364.381 88.0321,-355.029 78.3078,-359.235 83.053,-364.381\"/>\n",
       "</g>\n",
       "<!-- ConvNet/Sequential[fc]/Flatten[0]/outputs/20 -->\n",
       "<g id=\"node16\" class=\"node\"><title>ConvNet/Sequential[fc]/Flatten[0]/outputs/20</title>\n",
       "<polygon fill=\"#e8e8e8\" stroke=\"#000000\" points=\"64.5,-583 10.5,-583 10.5,-547 64.5,-547 64.5,-583\"/>\n",
       "<text text-anchor=\"start\" x=\"20.2217\" y=\"-562\" font-family=\"Times\" font-size=\"10.00\" fill=\"#000000\">Constant</text>\n",
       "</g>\n",
       "<!-- ConvNet/Sequential[fc]/Flatten[0]/outputs/20&#45;&gt;ConvNet/Sequential[fc]/Flatten[0]/outputs/22 -->\n",
       "<g id=\"edge3\" class=\"edge\"><title>ConvNet/Sequential[fc]/Flatten[0]/outputs/20&#45;&gt;ConvNet/Sequential[fc]/Flatten[0]/outputs/22</title>\n",
       "<path fill=\"none\" stroke=\"#000000\" d=\"M54.203,-546.813C62.7631,-538.005 73.3363,-527.125 82.7305,-517.458\"/>\n",
       "<polygon fill=\"#000000\" stroke=\"#000000\" points=\"85.4915,-519.64 89.9508,-510.029 80.4715,-514.761 85.4915,-519.64\"/>\n",
       "</g>\n",
       "<!-- ConvNet/Sequential[fc]/Dropout[3]/outputs/30/31&#45;&gt;ConvNet/Sequential[fc]/Dropout[3]/outputs/32 -->\n",
       "<g id=\"edge10\" class=\"edge\"><title>ConvNet/Sequential[fc]/Dropout[3]/outputs/30/31&#45;&gt;ConvNet/Sequential[fc]/Dropout[3]/outputs/32</title>\n",
       "<path fill=\"none\" stroke=\"#000000\" d=\"M143.5,-81.6412C143.5,-71.2971 143.5,-57.941 143.5,-46.2206\"/>\n",
       "<polygon fill=\"#000000\" stroke=\"#000000\" points=\"147,-46.0501 143.5,-36.0501 140,-46.0501 147,-46.0501\"/>\n",
       "<text text-anchor=\"middle\" x=\"156\" y=\"-56\" font-family=\"Times\" font-size=\"10.00\" fill=\"#000000\">1x128</text>\n",
       "</g>\n",
       "</g>\n",
       "</svg>\n"
      ],
      "text/plain": [
       "<hiddenlayer.graph.Graph at 0x14682f748>"
      ]
     },
     "execution_count": 66,
     "metadata": {},
     "output_type": "execute_result"
    }
   ],
   "source": [
    "hl.build_graph(model1, torch.zeros([1, 1, 32, 32]))"
   ]
  },
  {
   "cell_type": "markdown",
   "metadata": {},
   "source": [
    "## Implant layer into one trained network"
   ]
  },
  {
   "cell_type": "code",
   "execution_count": 47,
   "metadata": {},
   "outputs": [],
   "source": [
    "net_before = nn.Sequential(\n",
    "    model1.conv1,\n",
    "    model1.conv2,\n",
    ")\n",
    "\n",
    "net_after = nn.Sequential(\n",
    "    model1.conv3,\n",
    "    model1.fc\n",
    ")\n",
    "\n",
    "connector = make_connector(32, 32)"
   ]
  },
  {
   "cell_type": "code",
   "execution_count": 48,
   "metadata": {},
   "outputs": [
    {
     "data": {
      "image/png": "[encoded data removed]",
      "text/plain": [
       "<Figure size 864x576 with 2 Axes>"
      ]
     },
     "metadata": {
      "needs_background": "light"
     },
     "output_type": "display_data"
    },
    {
     "name": "stdout",
     "output_type": "stream",
     "text": [
      "accuracy:\n",
      "training   (min:    0.243, max:    0.825, cur:    0.823)\n",
      "validation (min:    0.272, max:    0.828, cur:    0.824)\n",
      "\n",
      "log loss:\n",
      "training   (min:    0.576, max:    1.508, cur:    0.576)\n",
      "validation (min:    0.581, max:    1.424, cur:    0.581)\n"
     ]
    }
   ],
   "source": [
    "sewn_model1 = SewnConvNet(net_before, net_after, connector)\n",
    "optimizer = optim.Adam(sewn_model1.parameters(), lr=1e-4)\n",
    "ą\n",
    "sewn_model1_trained = train_model(sewn_model1, criterion, optimizer, num_epochs=20)"
   ]
  },
  {
   "cell_type": "code",
   "execution_count": 61,
   "metadata": {},
   "outputs": [
    {
     "data": {
      "image/png": "[encoded data removed]",
      "text/plain": [
       "<Figure size 864x576 with 2 Axes>"
      ]
     },
     "metadata": {
      "needs_background": "light"
     },
     "output_type": "display_data"
    },
    {
     "name": "stdout",
     "output_type": "stream",
     "text": [
      "accuracy:\n",
      "training   (min:    0.842, max:    0.842, cur:    0.842)\n",
      "validation (min:    0.834, max:    0.834, cur:    0.834)\n",
      "\n",
      "log loss:\n",
      "training   (min:    0.447, max:    0.447, cur:    0.447)\n",
      "validation (min:    0.465, max:    0.465, cur:    0.465)\n"
     ]
    },
    {
     "data": {
      "text/plain": [
       "SewnConvNet(\n",
       "  (net_before): Sequential(\n",
       "    (0): Sequential(\n",
       "      (0): Conv2d(1, 16, kernel_size=(3, 3), stride=(1, 1), padding=(1, 1))\n",
       "      (1): ReLU(inplace)\n",
       "      (2): MaxPool2d(kernel_size=2, stride=2, padding=0, dilation=1, ceil_mode=False)\n",
       "    )\n",
       "    (1): Sequential(\n",
       "      (0): Conv2d(16, 32, kernel_size=(3, 3), stride=(1, 1), padding=(1, 1))\n",
       "      (1): ReLU(inplace)\n",
       "      (2): MaxPool2d(kernel_size=2, stride=2, padding=0, dilation=1, ceil_mode=False)\n",
       "    )\n",
       "  )\n",
       "  (net_after): Sequential(\n",
       "    (0): Sequential(\n",
       "      (0): Conv2d(32, 64, kernel_size=(3, 3), stride=(1, 1), padding=(1, 1))\n",
       "      (1): ReLU(inplace)\n",
       "      (2): MaxPool2d(kernel_size=2, stride=2, padding=0, dilation=1, ceil_mode=False)\n",
       "    )\n",
       "    (1): Sequential(\n",
       "      (0): Flatten()\n",
       "      (1): Linear(in_features=1024, out_features=128, bias=True)\n",
       "      (2): ReLU(inplace)\n",
       "      (3): Dropout(p=0.5)\n",
       "      (4): Linear(in_features=128, out_features=4, bias=True)\n",
       "    )\n",
       "  )\n",
       "  (connector): Sequential()\n",
       ")"
      ]
     },
     "execution_count": 61,
     "metadata": {},
     "output_type": "execute_result"
    }
   ],
   "source": [
    "net_before = nn.Sequential(\n",
    "    model1.conv1,\n",
    "    model1.conv2,\n",
    ")\n",
    "\n",
    "net_after = nn.Sequential(\n",
    "    model1.conv3,\n",
    "    model1.fc\n",
    ")\n",
    "\n",
    "connector = make_identity_connector()\n",
    "\n",
    "sewn_model3 = SewnConvNet(net_before, net_after, connector, check=False)\n",
    "optimizer = optim.Adam(sewn_model1.parameters(), lr=1e-4)\n",
    "\n",
    "train_model(sewn_model3, criterion, optimizer, num_epochs=2)\n"
   ]
  },
  {
   "cell_type": "markdown",
   "metadata": {},
   "source": [
    "## Sew two trained networks"
   ]
  },
  {
   "cell_type": "code",
   "execution_count": 49,
   "metadata": {},
   "outputs": [
    {
     "data": {
      "image/png": "[encoded data removed]",
      "text/plain": [
       "<Figure size 864x576 with 2 Axes>"
      ]
     },
     "metadata": {
      "needs_background": "light"
     },
     "output_type": "display_data"
    },
    {
     "name": "stdout",
     "output_type": "stream",
     "text": [
      "accuracy:\n",
      "training   (min:    0.319, max:    0.823, cur:    0.823)\n",
      "validation (min:    0.386, max:    0.838, cur:    0.838)\n",
      "\n",
      "log loss:\n",
      "training   (min:    0.508, max:    1.378, cur:    0.508)\n",
      "validation (min:    0.469, max:    1.369, cur:    0.469)\n"
     ]
    }
   ],
   "source": [
    "model2 = ConvNet()\n",
    "optimizer2 = optim.Adam(model2.parameters(), lr=1e-4)\n",
    "\n",
    "model2_trained = train_model(model2, criterion, optimizer2, num_epochs=20)"
   ]
  },
  {
   "cell_type": "code",
   "execution_count": 51,
   "metadata": {},
   "outputs": [
    {
     "data": {
      "image/png": "[encoded data removed]",
      "text/plain": [
       "<Figure size 864x576 with 2 Axes>"
      ]
     },
     "metadata": {
      "needs_background": "light"
     },
     "output_type": "display_data"
    },
    {
     "name": "stdout",
     "output_type": "stream",
     "text": [
      "accuracy:\n",
      "training   (min:    0.815, max:    0.845, cur:    0.845)\n",
      "validation (min:    0.844, max:    0.856, cur:    0.846)\n",
      "\n",
      "log loss:\n",
      "training   (min:    0.442, max:    0.501, cur:    0.442)\n",
      "validation (min:    0.423, max:    0.471, cur:    0.423)\n"
     ]
    },
    {
     "data": {
      "text/plain": [
       "ConvNet(\n",
       "  (conv1): Sequential(\n",
       "    (0): Conv2d(1, 16, kernel_size=(3, 3), stride=(1, 1), padding=(1, 1))\n",
       "    (1): ReLU(inplace)\n",
       "    (2): MaxPool2d(kernel_size=2, stride=2, padding=0, dilation=1, ceil_mode=False)\n",
       "  )\n",
       "  (conv2): Sequential(\n",
       "    (0): Conv2d(16, 32, kernel_size=(3, 3), stride=(1, 1), padding=(1, 1))\n",
       "    (1): ReLU(inplace)\n",
       "    (2): MaxPool2d(kernel_size=2, stride=2, padding=0, dilation=1, ceil_mode=False)\n",
       "  )\n",
       "  (conv3): Sequential(\n",
       "    (0): Conv2d(32, 64, kernel_size=(3, 3), stride=(1, 1), padding=(1, 1))\n",
       "    (1): ReLU(inplace)\n",
       "    (2): MaxPool2d(kernel_size=2, stride=2, padding=0, dilation=1, ceil_mode=False)\n",
       "  )\n",
       "  (fc): Sequential(\n",
       "    (0): Flatten()\n",
       "    (1): Linear(in_features=1024, out_features=128, bias=True)\n",
       "    (2): ReLU(inplace)\n",
       "    (3): Dropout(p=0.5)\n",
       "    (4): Linear(in_features=128, out_features=4, bias=True)\n",
       "  )\n",
       ")"
      ]
     },
     "execution_count": 51,
     "metadata": {},
     "output_type": "execute_result"
    }
   ],
   "source": [
    "train_model(model2, criterion, optimizer2, num_epochs=10)"
   ]
  },
  {
   "cell_type": "code",
   "execution_count": 52,
   "metadata": {},
   "outputs": [],
   "source": [
    "net_before = nn.Sequential(\n",
    "    model1.conv1,\n",
    "    model1.conv2,\n",
    ")\n",
    "\n",
    "net_after = nn.Sequential(\n",
    "    model2.conv3,\n",
    "    model2.fc\n",
    ")\n",
    "\n",
    "connector = make_connector(32, 32)"
   ]
  },
  {
   "cell_type": "code",
   "execution_count": 53,
   "metadata": {},
   "outputs": [
    {
     "data": {
      "image/png": "[encoded data removed]",
      "text/plain": [
       "<Figure size 864x576 with 2 Axes>"
      ]
     },
     "metadata": {
      "needs_background": "light"
     },
     "output_type": "display_data"
    },
    {
     "name": "stdout",
     "output_type": "stream",
     "text": [
      "accuracy:\n",
      "training   (min:    0.243, max:    0.817, cur:    0.817)\n",
      "validation (min:    0.272, max:    0.808, cur:    0.802)\n",
      "\n",
      "log loss:\n",
      "training   (min:    0.724, max:    1.395, cur:    0.724)\n",
      "validation (min:    0.726, max:    1.366, cur:    0.726)\n"
     ]
    }
   ],
   "source": [
    "sewn_model2 = SewnConvNet(net_before, net_after, connector)\n",
    "optimizer = optim.Adam(sewn_model2.parameters(), lr=1e-4)\n",
    "\n",
    "sewn_model2_trained = train_model(sewn_model2, criterion, optimizer, num_epochs=20)"
   ]
  },
  {
   "cell_type": "code",
   "execution_count": 64,
   "metadata": {},
   "outputs": [],
   "source": [
    "import hiddenlayer as hl"
   ]
  },
  {
   "cell_type": "code",
   "execution_count": 65,
   "metadata": {},
   "outputs": [
    {
     "data": {
      "image/svg+xml": [
       "<?xml version=\"1.0\" encoding=\"UTF-8\" standalone=\"no\"?>\n",
       "<!DOCTYPE svg PUBLIC \"-//W3C//DTD SVG 1.1//EN\"\n",
       " \"http://www.w3.org/Graphics/SVG/1.1/DTD/svg11.dtd\">\n",
       "<!-- Generated by graphviz version 2.38.0 (20140413.2041)\n",
       " -->\n",
       "<!-- Title: %3 Pages: 1 -->\n",
       "<svg width=\"324pt\" height=\"1153pt\"\n",
       " viewBox=\"0.00 0.00 324.00 1153.00\" xmlns=\"http://www.w3.org/2000/svg\" xmlns:xlink=\"http://www.w3.org/1999/xlink\">\n",
       "<g id=\"graph0\" class=\"graph\" transform=\"scale(1 1) rotate(0) translate(72 1117)\">\n",
       "<title>%3</title>\n",
       "<polygon fill=\"#ffffff\" stroke=\"none\" points=\"-72,36 -72,-1117 252,-1117 252,36 -72,36\"/>\n",
       "<!-- SewnConvNet/Sequential[net_after]/Sequential[1]/Flatten[0]/outputs/29 -->\n",
       "<g id=\"node1\" class=\"node\"><title>SewnConvNet/Sequential[net_after]/Sequential[1]/Flatten[0]/outputs/29</title>\n",
       "<polygon fill=\"#e8e8e8\" stroke=\"#000000\" points=\"174.5,-583 120.5,-583 120.5,-547 174.5,-547 174.5,-583\"/>\n",
       "<text text-anchor=\"start\" x=\"135.281\" y=\"-562\" font-family=\"Times\" font-size=\"10.00\" fill=\"#000000\">Shape</text>\n",
       "</g>\n",
       "<!-- SewnConvNet/Sequential[net_after]/Sequential[1]/Flatten[0]/outputs/30 -->\n",
       "<g id=\"node13\" class=\"node\"><title>SewnConvNet/Sequential[net_after]/Sequential[1]/Flatten[0]/outputs/30</title>\n",
       "<polygon fill=\"#e8e8e8\" stroke=\"#000000\" points=\"174.5,-510 120.5,-510 120.5,-474 174.5,-474 174.5,-510\"/>\n",
       "<text text-anchor=\"start\" x=\"134.396\" y=\"-489\" font-family=\"Times\" font-size=\"10.00\" fill=\"#000000\">Gather</text>\n",
       "</g>\n",
       "<!-- SewnConvNet/Sequential[net_after]/Sequential[1]/Flatten[0]/outputs/29&#45;&gt;SewnConvNet/Sequential[net_after]/Sequential[1]/Flatten[0]/outputs/30 -->\n",
       "<g id=\"edge4\" class=\"edge\"><title>SewnConvNet/Sequential[net_after]/Sequential[1]/Flatten[0]/outputs/29&#45;&gt;SewnConvNet/Sequential[net_after]/Sequential[1]/Flatten[0]/outputs/30</title>\n",
       "<path fill=\"none\" stroke=\"#000000\" d=\"M147.5,-546.813C147.5,-538.789 147.5,-529.047 147.5,-520.069\"/>\n",
       "<polygon fill=\"#000000\" stroke=\"#000000\" points=\"151,-520.029 147.5,-510.029 144,-520.029 151,-520.029\"/>\n",
       "</g>\n",
       "<!-- /outputs/32 -->\n",
       "<g id=\"node2\" class=\"node\"><title>/outputs/32</title>\n",
       "<polygon fill=\"#e8e8e8\" stroke=\"#000000\" points=\"180,-428 121,-428 121,-392 180,-392 180,-428\"/>\n",
       "<text text-anchor=\"start\" x=\"129.066\" y=\"-407\" font-family=\"Times\" font-size=\"10.00\" fill=\"#000000\">Unsqueeze</text>\n",
       "</g>\n",
       "<!-- /outputs/34 -->\n",
       "<g id=\"node9\" class=\"node\"><title>/outputs/34</title>\n",
       "<polygon fill=\"#e8e8e8\" stroke=\"#000000\" points=\"100.5,-355 46.5,-355 46.5,-319 100.5,-319 100.5,-355\"/>\n",
       "<text text-anchor=\"start\" x=\"59.3374\" y=\"-334\" font-family=\"Times\" font-size=\"10.00\" fill=\"#000000\">Concat</text>\n",
       "</g>\n",
       "<!-- /outputs/32&#45;&gt;/outputs/34 -->\n",
       "<g id=\"edge7\" class=\"edge\"><title>/outputs/32&#45;&gt;/outputs/34</title>\n",
       "<path fill=\"none\" stroke=\"#000000\" d=\"M131.86,-391.813C122.119,-382.83 110.041,-371.693 99.4041,-361.886\"/>\n",
       "<polygon fill=\"#000000\" stroke=\"#000000\" points=\"101.692,-359.235 91.9679,-355.029 96.947,-364.381 101.692,-359.235\"/>\n",
       "</g>\n",
       "<!-- SewnConvNet/Sequential[net_before]/Sequential[0]/MaxPool2d[2]/outputs/17 -->\n",
       "<g id=\"node3\" class=\"node\"><title>SewnConvNet/Sequential[net_before]/Sequential[0]/MaxPool2d[2]/outputs/17</title>\n",
       "<polygon fill=\"#e8e8e8\" stroke=\"#000000\" points=\"90,-999 23,-999 23,-963 90,-963 90,-999\"/>\n",
       "<text text-anchor=\"start\" x=\"31.165\" y=\"-978\" font-family=\"Times\" font-size=\"10.00\" fill=\"#000000\">MaxPool2x2</text>\n",
       "</g>\n",
       "<!-- 11737256869322670111 -->\n",
       "<g id=\"node17\" class=\"node\"><title>11737256869322670111</title>\n",
       "<polygon fill=\"#e8e8e8\" stroke=\"#000000\" points=\"97.5,-917 15.5,-917 15.5,-881 97.5,-881 97.5,-917\"/>\n",
       "<text text-anchor=\"start\" x=\"23.4019\" y=\"-896\" font-family=\"Times\" font-size=\"10.00\" fill=\"#000000\">Conv3x3 &gt; Relu</text>\n",
       "</g>\n",
       "<!-- SewnConvNet/Sequential[net_before]/Sequential[0]/MaxPool2d[2]/outputs/17&#45;&gt;11737256869322670111 -->\n",
       "<g id=\"edge11\" class=\"edge\"><title>SewnConvNet/Sequential[net_before]/Sequential[0]/MaxPool2d[2]/outputs/17&#45;&gt;11737256869322670111</title>\n",
       "<path fill=\"none\" stroke=\"#000000\" d=\"M56.5,-962.641C56.5,-952.297 56.5,-938.941 56.5,-927.221\"/>\n",
       "<polygon fill=\"#000000\" stroke=\"#000000\" points=\"60.0001,-927.05 56.5,-917.05 53.0001,-927.05 60.0001,-927.05\"/>\n",
       "<text text-anchor=\"middle\" x=\"81.5\" y=\"-937\" font-family=\"Times\" font-size=\"10.00\" fill=\"#000000\">1x16x16x16</text>\n",
       "</g>\n",
       "<!-- 16989138070246805126 -->\n",
       "<g id=\"node4\" class=\"node\"><title>16989138070246805126</title>\n",
       "<polygon fill=\"#e8e8e8\" stroke=\"#000000\" points=\"97.5,-1081 15.5,-1081 15.5,-1045 97.5,-1045 97.5,-1081\"/>\n",
       "<text text-anchor=\"start\" x=\"23.4019\" y=\"-1060\" font-family=\"Times\" font-size=\"10.00\" fill=\"#000000\">Conv3x3 &gt; Relu</text>\n",
       "</g>\n",
       "<!-- 16989138070246805126&#45;&gt;SewnConvNet/Sequential[net_before]/Sequential[0]/MaxPool2d[2]/outputs/17 -->\n",
       "<g id=\"edge13\" class=\"edge\"><title>16989138070246805126&#45;&gt;SewnConvNet/Sequential[net_before]/Sequential[0]/MaxPool2d[2]/outputs/17</title>\n",
       "<path fill=\"none\" stroke=\"#000000\" d=\"M56.5,-1044.64C56.5,-1034.3 56.5,-1020.94 56.5,-1009.22\"/>\n",
       "<polygon fill=\"#000000\" stroke=\"#000000\" points=\"60.0001,-1009.05 56.5,-999.05 53.0001,-1009.05 60.0001,-1009.05\"/>\n",
       "<text text-anchor=\"middle\" x=\"81.5\" y=\"-1019\" font-family=\"Times\" font-size=\"10.00\" fill=\"#000000\">1x16x32x32</text>\n",
       "</g>\n",
       "<!-- SewnConvNet/Sequential[net_after]/Sequential[1]/Dropout[3]/outputs/40 -->\n",
       "<g id=\"node5\" class=\"node\"><title>SewnConvNet/Sequential[net_after]/Sequential[1]/Dropout[3]/outputs/40</title>\n",
       "<polygon fill=\"#e8e8e8\" stroke=\"#000000\" points=\"62.5,-36 8.5,-36 8.5,-0 62.5,-0 62.5,-36\"/>\n",
       "<text text-anchor=\"start\" x=\"22.4531\" y=\"-15\" font-family=\"Times\" font-size=\"10.00\" fill=\"#000000\">Linear</text>\n",
       "</g>\n",
       "<!-- SewnConvNet/Sequential[net_after]/Sequential[1]/Flatten[0]/outputs/31 -->\n",
       "<g id=\"node6\" class=\"node\"><title>SewnConvNet/Sequential[net_after]/Sequential[1]/Flatten[0]/outputs/31</title>\n",
       "<polygon fill=\"#e8e8e8\" stroke=\"#000000\" points=\"100.5,-510 46.5,-510 46.5,-474 100.5,-474 100.5,-510\"/>\n",
       "<text text-anchor=\"start\" x=\"56.2217\" y=\"-489\" font-family=\"Times\" font-size=\"10.00\" fill=\"#000000\">Constant</text>\n",
       "</g>\n",
       "<!-- /outputs/33 -->\n",
       "<g id=\"node16\" class=\"node\"><title>/outputs/33</title>\n",
       "<polygon fill=\"#e8e8e8\" stroke=\"#000000\" points=\"103,-428 44,-428 44,-392 103,-392 103,-428\"/>\n",
       "<text text-anchor=\"start\" x=\"52.0664\" y=\"-407\" font-family=\"Times\" font-size=\"10.00\" fill=\"#000000\">Unsqueeze</text>\n",
       "</g>\n",
       "<!-- SewnConvNet/Sequential[net_after]/Sequential[1]/Flatten[0]/outputs/31&#45;&gt;/outputs/33 -->\n",
       "<g id=\"edge6\" class=\"edge\"><title>SewnConvNet/Sequential[net_after]/Sequential[1]/Flatten[0]/outputs/31&#45;&gt;/outputs/33</title>\n",
       "<path fill=\"none\" stroke=\"#000000\" d=\"M73.5,-473.641C73.5,-463.297 73.5,-449.941 73.5,-438.221\"/>\n",
       "<polygon fill=\"#000000\" stroke=\"#000000\" points=\"77.0001,-438.05 73.5,-428.05 70.0001,-438.05 77.0001,-438.05\"/>\n",
       "</g>\n",
       "<!-- SewnConvNet/Sequential[net_after]/Sequential[1]/Flatten[0]/outputs/35 -->\n",
       "<g id=\"node7\" class=\"node\"><title>SewnConvNet/Sequential[net_after]/Sequential[1]/Flatten[0]/outputs/35</title>\n",
       "<polygon fill=\"#e8e8e8\" stroke=\"#000000\" points=\"62.5,-282 8.5,-282 8.5,-246 62.5,-246 62.5,-282\"/>\n",
       "<text text-anchor=\"start\" x=\"19.0615\" y=\"-261\" font-family=\"Times\" font-size=\"10.00\" fill=\"#000000\">Reshape</text>\n",
       "</g>\n",
       "<!-- 9295868339967994608 -->\n",
       "<g id=\"node8\" class=\"node\"><title>9295868339967994608</title>\n",
       "<polygon fill=\"#e8e8e8\" stroke=\"#000000\" points=\"71,-200 0,-200 0,-164 71,-164 71,-200\"/>\n",
       "<text text-anchor=\"start\" x=\"8.18994\" y=\"-179\" font-family=\"Times\" font-size=\"10.00\" fill=\"#000000\">Linear &gt; Relu</text>\n",
       "</g>\n",
       "<!-- SewnConvNet/Sequential[net_after]/Sequential[1]/Flatten[0]/outputs/35&#45;&gt;9295868339967994608 -->\n",
       "<g id=\"edge14\" class=\"edge\"><title>SewnConvNet/Sequential[net_after]/Sequential[1]/Flatten[0]/outputs/35&#45;&gt;9295868339967994608</title>\n",
       "<path fill=\"none\" stroke=\"#000000\" d=\"M35.5,-245.641C35.5,-235.297 35.5,-221.941 35.5,-210.221\"/>\n",
       "<polygon fill=\"#000000\" stroke=\"#000000\" points=\"39.0001,-210.05 35.5,-200.05 32.0001,-210.05 39.0001,-210.05\"/>\n",
       "<text text-anchor=\"middle\" x=\"50.5\" y=\"-220\" font-family=\"Times\" font-size=\"10.00\" fill=\"#000000\">1x1024</text>\n",
       "</g>\n",
       "<!-- SewnConvNet/Sequential[net_after]/Sequential[1]/Dropout[3]/outputs/38/39 -->\n",
       "<g id=\"node12\" class=\"node\"><title>SewnConvNet/Sequential[net_after]/Sequential[1]/Dropout[3]/outputs/38/39</title>\n",
       "<polygon fill=\"#e8e8e8\" stroke=\"#000000\" points=\"62.5,-118 8.5,-118 8.5,-82 62.5,-82 62.5,-118\"/>\n",
       "<text text-anchor=\"start\" x=\"19.335\" y=\"-97\" font-family=\"Times\" font-size=\"10.00\" fill=\"#000000\">Dropout</text>\n",
       "</g>\n",
       "<!-- 9295868339967994608&#45;&gt;SewnConvNet/Sequential[net_after]/Sequential[1]/Dropout[3]/outputs/38/39 -->\n",
       "<g id=\"edge15\" class=\"edge\"><title>9295868339967994608&#45;&gt;SewnConvNet/Sequential[net_after]/Sequential[1]/Dropout[3]/outputs/38/39</title>\n",
       "<path fill=\"none\" stroke=\"#000000\" d=\"M35.5,-163.641C35.5,-153.297 35.5,-139.941 35.5,-128.221\"/>\n",
       "<polygon fill=\"#000000\" stroke=\"#000000\" points=\"39.0001,-128.05 35.5,-118.05 32.0001,-128.05 39.0001,-128.05\"/>\n",
       "<text text-anchor=\"middle\" x=\"48\" y=\"-138\" font-family=\"Times\" font-size=\"10.00\" fill=\"#000000\">1x128</text>\n",
       "</g>\n",
       "<!-- /outputs/34&#45;&gt;SewnConvNet/Sequential[net_after]/Sequential[1]/Flatten[0]/outputs/35 -->\n",
       "<g id=\"edge9\" class=\"edge\"><title>/outputs/34&#45;&gt;SewnConvNet/Sequential[net_after]/Sequential[1]/Flatten[0]/outputs/35</title>\n",
       "<path fill=\"none\" stroke=\"#000000\" d=\"M64.3013,-318.813C59.8203,-310.441 54.3379,-300.197 49.3634,-290.903\"/>\n",
       "<polygon fill=\"#000000\" stroke=\"#000000\" points=\"52.4187,-289.194 44.614,-282.029 46.247,-292.497 52.4187,-289.194\"/>\n",
       "</g>\n",
       "<!-- 12529944242941750993 -->\n",
       "<g id=\"node10\" class=\"node\"><title>12529944242941750993</title>\n",
       "<polygon fill=\"#e8e8e8\" stroke=\"#000000\" points=\"97.5,-753 15.5,-753 15.5,-711 97.5,-711 97.5,-753\"/>\n",
       "<text text-anchor=\"start\" x=\"23.4019\" y=\"-737\" font-family=\"Times\" font-size=\"10.00\" fill=\"#000000\">Conv1x1 &gt; Relu</text>\n",
       "<text text-anchor=\"start\" x=\"83.5\" y=\"-717\" font-family=\"Times\" font-size=\"10.00\" fill=\"#000000\">x3</text>\n",
       "</g>\n",
       "<!-- SewnConvNet/Sequential[net_after]/Sequential[0]/MaxPool2d[2]/outputs/27 -->\n",
       "<g id=\"node15\" class=\"node\"><title>SewnConvNet/Sequential[net_after]/Sequential[0]/MaxPool2d[2]/outputs/27</title>\n",
       "<polygon fill=\"#e8e8e8\" stroke=\"#000000\" points=\"90,-665 23,-665 23,-629 90,-629 90,-665\"/>\n",
       "<text text-anchor=\"start\" x=\"31.165\" y=\"-644\" font-family=\"Times\" font-size=\"10.00\" fill=\"#000000\">MaxPool2x2</text>\n",
       "</g>\n",
       "<!-- 12529944242941750993&#45;&gt;SewnConvNet/Sequential[net_after]/Sequential[0]/MaxPool2d[2]/outputs/27 -->\n",
       "<g id=\"edge17\" class=\"edge\"><title>12529944242941750993&#45;&gt;SewnConvNet/Sequential[net_after]/Sequential[0]/MaxPool2d[2]/outputs/27</title>\n",
       "<path fill=\"none\" stroke=\"#000000\" d=\"M56.5,-710.908C56.5,-700.182 56.5,-686.829 56.5,-675.188\"/>\n",
       "<polygon fill=\"#000000\" stroke=\"#000000\" points=\"60.0001,-675.103 56.5,-665.103 53.0001,-675.103 60.0001,-675.103\"/>\n",
       "<text text-anchor=\"middle\" x=\"76.5\" y=\"-685\" font-family=\"Times\" font-size=\"10.00\" fill=\"#000000\">1x64x8x8</text>\n",
       "</g>\n",
       "<!-- SewnConvNet/Sequential[net_after]/Sequential[1]/Flatten[0]/outputs/28 -->\n",
       "<g id=\"node11\" class=\"node\"><title>SewnConvNet/Sequential[net_after]/Sequential[1]/Flatten[0]/outputs/28</title>\n",
       "<polygon fill=\"#e8e8e8\" stroke=\"#000000\" points=\"102.5,-583 48.5,-583 48.5,-547 102.5,-547 102.5,-583\"/>\n",
       "<text text-anchor=\"start\" x=\"58.2217\" y=\"-562\" font-family=\"Times\" font-size=\"10.00\" fill=\"#000000\">Constant</text>\n",
       "</g>\n",
       "<!-- SewnConvNet/Sequential[net_after]/Sequential[1]/Flatten[0]/outputs/28&#45;&gt;SewnConvNet/Sequential[net_after]/Sequential[1]/Flatten[0]/outputs/30 -->\n",
       "<g id=\"edge3\" class=\"edge\"><title>SewnConvNet/Sequential[net_after]/Sequential[1]/Flatten[0]/outputs/28&#45;&gt;SewnConvNet/Sequential[net_after]/Sequential[1]/Flatten[0]/outputs/30</title>\n",
       "<path fill=\"none\" stroke=\"#000000\" d=\"M92.9292,-546.813C101.95,-537.917 113.113,-526.909 122.988,-517.172\"/>\n",
       "<polygon fill=\"#000000\" stroke=\"#000000\" points=\"125.568,-519.542 130.231,-510.029 120.653,-514.558 125.568,-519.542\"/>\n",
       "</g>\n",
       "<!-- SewnConvNet/Sequential[net_after]/Sequential[1]/Dropout[3]/outputs/38/39&#45;&gt;SewnConvNet/Sequential[net_after]/Sequential[1]/Dropout[3]/outputs/40 -->\n",
       "<g id=\"edge10\" class=\"edge\"><title>SewnConvNet/Sequential[net_after]/Sequential[1]/Dropout[3]/outputs/38/39&#45;&gt;SewnConvNet/Sequential[net_after]/Sequential[1]/Dropout[3]/outputs/40</title>\n",
       "<path fill=\"none\" stroke=\"#000000\" d=\"M35.5,-81.6412C35.5,-71.2971 35.5,-57.941 35.5,-46.2206\"/>\n",
       "<polygon fill=\"#000000\" stroke=\"#000000\" points=\"39.0001,-46.0501 35.5,-36.0501 32.0001,-46.0501 39.0001,-46.0501\"/>\n",
       "<text text-anchor=\"middle\" x=\"48\" y=\"-56\" font-family=\"Times\" font-size=\"10.00\" fill=\"#000000\">1x128</text>\n",
       "</g>\n",
       "<!-- SewnConvNet/Sequential[net_after]/Sequential[1]/Flatten[0]/outputs/30&#45;&gt;/outputs/32 -->\n",
       "<g id=\"edge5\" class=\"edge\"><title>SewnConvNet/Sequential[net_after]/Sequential[1]/Flatten[0]/outputs/30&#45;&gt;/outputs/32</title>\n",
       "<path fill=\"none\" stroke=\"#000000\" d=\"M148.151,-473.641C148.539,-463.297 149.04,-449.941 149.479,-438.221\"/>\n",
       "<polygon fill=\"#000000\" stroke=\"#000000\" points=\"152.983,-438.174 149.861,-428.05 145.988,-437.912 152.983,-438.174\"/>\n",
       "</g>\n",
       "<!-- SewnConvNet/Sequential[net_before]/Sequential[1]/MaxPool2d[2]/outputs/20 -->\n",
       "<g id=\"node14\" class=\"node\"><title>SewnConvNet/Sequential[net_before]/Sequential[1]/MaxPool2d[2]/outputs/20</title>\n",
       "<polygon fill=\"#e8e8e8\" stroke=\"#000000\" points=\"90,-835 23,-835 23,-799 90,-799 90,-835\"/>\n",
       "<text text-anchor=\"start\" x=\"31.165\" y=\"-814\" font-family=\"Times\" font-size=\"10.00\" fill=\"#000000\">MaxPool2x2</text>\n",
       "</g>\n",
       "<!-- SewnConvNet/Sequential[net_before]/Sequential[1]/MaxPool2d[2]/outputs/20&#45;&gt;12529944242941750993 -->\n",
       "<g id=\"edge16\" class=\"edge\"><title>SewnConvNet/Sequential[net_before]/Sequential[1]/MaxPool2d[2]/outputs/20&#45;&gt;12529944242941750993</title>\n",
       "<path fill=\"none\" stroke=\"#000000\" d=\"M56.5,-798.802C56.5,-788.519 56.5,-775.163 56.5,-763.172\"/>\n",
       "<polygon fill=\"#000000\" stroke=\"#000000\" points=\"60.0001,-763.099 56.5,-753.099 53.0001,-763.099 60.0001,-763.099\"/>\n",
       "<text text-anchor=\"middle\" x=\"76.5\" y=\"-773\" font-family=\"Times\" font-size=\"10.00\" fill=\"#000000\">1x32x8x8</text>\n",
       "</g>\n",
       "<!-- SewnConvNet/Sequential[net_after]/Sequential[0]/MaxPool2d[2]/outputs/27&#45;&gt;SewnConvNet/Sequential[net_after]/Sequential[1]/Flatten[0]/outputs/29 -->\n",
       "<g id=\"edge1\" class=\"edge\"><title>SewnConvNet/Sequential[net_after]/Sequential[0]/MaxPool2d[2]/outputs/27&#45;&gt;SewnConvNet/Sequential[net_after]/Sequential[1]/Flatten[0]/outputs/29</title>\n",
       "<path fill=\"none\" stroke=\"#000000\" d=\"M76.2456,-628.641C89.2126,-617.242 106.341,-602.184 120.554,-589.689\"/>\n",
       "<polygon fill=\"#000000\" stroke=\"#000000\" points=\"122.906,-592.281 128.106,-583.05 118.284,-587.024 122.906,-592.281\"/>\n",
       "<text text-anchor=\"middle\" x=\"127.5\" y=\"-603\" font-family=\"Times\" font-size=\"10.00\" fill=\"#000000\">1x64x4x4</text>\n",
       "</g>\n",
       "<!-- SewnConvNet/Sequential[net_after]/Sequential[0]/MaxPool2d[2]/outputs/27&#45;&gt;SewnConvNet/Sequential[net_after]/Sequential[1]/Flatten[0]/outputs/35 -->\n",
       "<g id=\"edge2\" class=\"edge\"><title>SewnConvNet/Sequential[net_after]/Sequential[0]/MaxPool2d[2]/outputs/27&#45;&gt;SewnConvNet/Sequential[net_after]/Sequential[1]/Flatten[0]/outputs/35</title>\n",
       "<path fill=\"none\" stroke=\"#000000\" d=\"M41.6981,-628.863C29.9541,-613.477 15.5,-589.722 15.5,-566 15.5,-566 15.5,-566 15.5,-336 15.5,-320.897 19.7448,-304.641 24.3232,-291.499\"/>\n",
       "<polygon fill=\"#000000\" stroke=\"#000000\" points=\"27.6033,-292.72 27.8247,-282.128 21.046,-290.27 27.6033,-292.72\"/>\n",
       "<text text-anchor=\"middle\" x=\"35.5\" y=\"-448\" font-family=\"Times\" font-size=\"10.00\" fill=\"#000000\">1x64x4x4</text>\n",
       "</g>\n",
       "<!-- /outputs/33&#45;&gt;/outputs/34 -->\n",
       "<g id=\"edge8\" class=\"edge\"><title>/outputs/33&#45;&gt;/outputs/34</title>\n",
       "<path fill=\"none\" stroke=\"#000000\" d=\"M73.5,-391.813C73.5,-383.789 73.5,-374.047 73.5,-365.069\"/>\n",
       "<polygon fill=\"#000000\" stroke=\"#000000\" points=\"77.0001,-365.029 73.5,-355.029 70.0001,-365.029 77.0001,-365.029\"/>\n",
       "</g>\n",
       "<!-- 11737256869322670111&#45;&gt;SewnConvNet/Sequential[net_before]/Sequential[1]/MaxPool2d[2]/outputs/20 -->\n",
       "<g id=\"edge12\" class=\"edge\"><title>11737256869322670111&#45;&gt;SewnConvNet/Sequential[net_before]/Sequential[1]/MaxPool2d[2]/outputs/20</title>\n",
       "<path fill=\"none\" stroke=\"#000000\" d=\"M56.5,-880.641C56.5,-870.297 56.5,-856.941 56.5,-845.221\"/>\n",
       "<polygon fill=\"#000000\" stroke=\"#000000\" points=\"60.0001,-845.05 56.5,-835.05 53.0001,-845.05 60.0001,-845.05\"/>\n",
       "<text text-anchor=\"middle\" x=\"81.5\" y=\"-855\" font-family=\"Times\" font-size=\"10.00\" fill=\"#000000\">1x32x16x16</text>\n",
       "</g>\n",
       "</g>\n",
       "</svg>\n"
      ],
      "text/plain": [
       "<hiddenlayer.graph.Graph at 0x1474d1518>"
      ]
     },
     "execution_count": 65,
     "metadata": {},
     "output_type": "execute_result"
    }
   ],
   "source": [
    "hl.build_graph(sewn_model2, torch.zeros([1, 1, 32, 32]))"
   ]
  },
  {
   "cell_type": "code",
   "execution_count": 63,
   "metadata": {},
   "outputs": [
    {
     "data": {
      "image/png": "[encoded data removed]",
      "text/plain": [
       "<Figure size 864x576 with 2 Axes>"
      ]
     },
     "metadata": {
      "needs_background": "light"
     },
     "output_type": "display_data"
    },
    {
     "name": "stdout",
     "output_type": "stream",
     "text": [
      "accuracy:\n",
      "training   (min:    0.243, max:    0.243, cur:    0.243)\n",
      "validation (min:    0.272, max:    0.272, cur:    0.272)\n",
      "\n",
      "log loss:\n",
      "training   (min:    2.392, max:    2.392, cur:    2.392)\n",
      "validation (min:    2.277, max:    2.277, cur:    2.277)\n"
     ]
    },
    {
     "data": {
      "text/plain": [
       "SewnConvNet(\n",
       "  (net_before): Sequential(\n",
       "    (0): Sequential(\n",
       "      (0): Conv2d(1, 16, kernel_size=(3, 3), stride=(1, 1), padding=(1, 1))\n",
       "      (1): ReLU(inplace)\n",
       "      (2): MaxPool2d(kernel_size=2, stride=2, padding=0, dilation=1, ceil_mode=False)\n",
       "    )\n",
       "    (1): Sequential(\n",
       "      (0): Conv2d(16, 32, kernel_size=(3, 3), stride=(1, 1), padding=(1, 1))\n",
       "      (1): ReLU(inplace)\n",
       "      (2): MaxPool2d(kernel_size=2, stride=2, padding=0, dilation=1, ceil_mode=False)\n",
       "    )\n",
       "  )\n",
       "  (net_after): Sequential(\n",
       "    (0): Sequential(\n",
       "      (0): Conv2d(32, 64, kernel_size=(3, 3), stride=(1, 1), padding=(1, 1))\n",
       "      (1): ReLU(inplace)\n",
       "      (2): MaxPool2d(kernel_size=2, stride=2, padding=0, dilation=1, ceil_mode=False)\n",
       "    )\n",
       "    (1): Sequential(\n",
       "      (0): Flatten()\n",
       "      (1): Linear(in_features=1024, out_features=128, bias=True)\n",
       "      (2): ReLU(inplace)\n",
       "      (3): Dropout(p=0.5)\n",
       "      (4): Linear(in_features=128, out_features=4, bias=True)\n",
       "    )\n",
       "  )\n",
       "  (connector): Sequential()\n",
       ")"
      ]
     },
     "execution_count": 63,
     "metadata": {},
     "output_type": "execute_result"
    }
   ],
   "source": [
    "net_before = nn.Sequential(\n",
    "    model1.conv1,\n",
    "    model1.conv2,\n",
    ")\n",
    "\n",
    "net_after = nn.Sequential(\n",
    "    model2.conv3,\n",
    "    model2.fc\n",
    ")\n",
    "\n",
    "connector = make_identity_connector()\n",
    "\n",
    "sewn_model4 = SewnConvNet(net_before, net_after, connector, check=False)\n",
    "optimizer = optim.Adam(sewn_model1.parameters(), lr=1e-4)\n",
    "\n",
    "train_model(sewn_model4, criterion, optimizer, num_epochs=2)\n"
   ]
  },
  {
   "cell_type": "code",
   "execution_count": null,
   "metadata": {},
   "outputs": [],
   "source": [
    "# dla chetnych:\n",
    "#\n",
    "# def _weights_init(model):\n",
    "#     def weights_init(m):\n",
    "#         if isinstance(m, nn.Linear):\n",
    "#             nn.init.xavier_uniform_(m.weight.data)\n",
    "#             nn.init.zeros_(m.bias.data)\n",
    "\n",
    "#     model.apply(weights_init)"
   ]
  }
 ],
 "metadata": {
  "kernelspec": {
   "display_name": "Python [default]",
   "language": "python",
   "name": "python3"
  },
  "language_info": {
   "codemirror_mode": {
    "name": "ipython",
    "version": 3
   },
   "file_extension": ".py",
   "mimetype": "text/x-python",
   "name": "python",
   "nbconvert_exporter": "python",
   "pygments_lexer": "ipython3",
   "version": "3.5.4"
  }
 },
 "nbformat": 4,
 "nbformat_minor": 2
}
