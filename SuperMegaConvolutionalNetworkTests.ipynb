{
 "cells": [
  {
   "cell_type": "code",
   "execution_count": 1,
   "metadata": {
    "collapsed": false
   },
   "outputs": [
    {
     "name": "stdout",
     "output_type": "stream",
     "text": [
      "Loaded 500 out of 144722 apples\n",
      "Loaded 500 out of 209447 spiders\n",
      "Loaded 500 out of 150152 octopuss\n",
      "Loaded 500 out of 116685 snowflakes\n",
      "X shape: (2000, 784), type:uint8\n"
     ]
    }
   ],
   "source": [
    "from torch import nn, optim\n",
    "import SuperFirstMegaNetwork\n",
    "from SuperFirstMegaNetwork import PrimeNet, train_model"
   ]
  },
  {
   "cell_type": "code",
   "execution_count": null,
   "metadata": {
    "collapsed": false
   },
   "outputs": [
    {
     "name": "stdout",
     "output_type": "stream",
     "text": [
      "output size conv_block: 16.0\n",
      "output size conv_block: 32.0\n",
      "output size conv_block: 64.0\n",
      "output size beetween: 64.0\n",
      "output size conv: 64.0\n",
      "output size conv: 64.0\n",
      "linear input size: 1024\n",
      "output size linear: 128\n",
      "output size linear: 128\n",
      "output size linear: 128\n",
      "output size linear: 128\n",
      "output size linear: 128\n"
     ]
    }
   ],
   "source": [
    "model1=PrimeNet(nn.ReLU, nn.MaxPool2d,3,2,5 )\n",
    "criterion = nn.CrossEntropyLoss()\n",
    "optimizer1 = optim.Adam(model1.parameters(), lr=1e-4)\n",
    "epoch_num=20"
   ]
  },
  {
   "cell_type": "code",
   "execution_count": null,
   "metadata": {
    "collapsed": false
   },
   "outputs": [],
   "source": [
    "model1_trained = train_model(model1, criterion, optimizer1, num_epochs=epoch_num)"
   ]
  }
 ],
 "metadata": {
  "kernelspec": {
   "display_name": "Python 3",
   "language": "python",
   "name": "python3"
  },
  "language_info": {
   "codemirror_mode": {
    "name": "ipython",
    "version": 3
   },
   "file_extension": ".py",
   "mimetype": "text/x-python",
   "name": "python",
   "nbconvert_exporter": "python",
   "pygments_lexer": "ipython3",
   "version": "3.6.8"
  }
 },
 "nbformat": 4,
 "nbformat_minor": 2
}
